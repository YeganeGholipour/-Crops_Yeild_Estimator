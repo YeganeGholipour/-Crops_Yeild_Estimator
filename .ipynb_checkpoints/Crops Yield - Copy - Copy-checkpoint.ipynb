{
 "cells": [
  {
   "cell_type": "code",
   "execution_count": 1,
   "id": "f7cf370a",
   "metadata": {},
   "outputs": [],
   "source": [
    "# Importing necessary libraries\n",
    "\n",
    "import numpy as np\n",
    "import matplotlib.pyplot as plt\n",
    "import pandas as pd\n",
    "import seaborn as sns"
   ]
  },
  {
   "cell_type": "markdown",
   "id": "b40d7af5",
   "metadata": {},
   "source": [
    "### Crops Yield Data: df_yield"
   ]
  },
  {
   "cell_type": "code",
   "execution_count": 2,
   "id": "b0340dea",
   "metadata": {},
   "outputs": [
    {
     "data": {
      "text/html": [
       "<div>\n",
       "<style scoped>\n",
       "    .dataframe tbody tr th:only-of-type {\n",
       "        vertical-align: middle;\n",
       "    }\n",
       "\n",
       "    .dataframe tbody tr th {\n",
       "        vertical-align: top;\n",
       "    }\n",
       "\n",
       "    .dataframe thead th {\n",
       "        text-align: right;\n",
       "    }\n",
       "</style>\n",
       "<table border=\"1\" class=\"dataframe\">\n",
       "  <thead>\n",
       "    <tr style=\"text-align: right;\">\n",
       "      <th></th>\n",
       "      <th>Domain Code</th>\n",
       "      <th>Domain</th>\n",
       "      <th>Area Code</th>\n",
       "      <th>Area</th>\n",
       "      <th>Element Code</th>\n",
       "      <th>Element</th>\n",
       "      <th>Item Code</th>\n",
       "      <th>Item</th>\n",
       "      <th>Year Code</th>\n",
       "      <th>Year</th>\n",
       "      <th>Unit</th>\n",
       "      <th>Value</th>\n",
       "    </tr>\n",
       "  </thead>\n",
       "  <tbody>\n",
       "    <tr>\n",
       "      <th>0</th>\n",
       "      <td>QC</td>\n",
       "      <td>Crops</td>\n",
       "      <td>2</td>\n",
       "      <td>Afghanistan</td>\n",
       "      <td>5419</td>\n",
       "      <td>Yield</td>\n",
       "      <td>56</td>\n",
       "      <td>Maize</td>\n",
       "      <td>1961</td>\n",
       "      <td>1961</td>\n",
       "      <td>hg/ha</td>\n",
       "      <td>14000</td>\n",
       "    </tr>\n",
       "    <tr>\n",
       "      <th>1</th>\n",
       "      <td>QC</td>\n",
       "      <td>Crops</td>\n",
       "      <td>2</td>\n",
       "      <td>Afghanistan</td>\n",
       "      <td>5419</td>\n",
       "      <td>Yield</td>\n",
       "      <td>56</td>\n",
       "      <td>Maize</td>\n",
       "      <td>1962</td>\n",
       "      <td>1962</td>\n",
       "      <td>hg/ha</td>\n",
       "      <td>14000</td>\n",
       "    </tr>\n",
       "    <tr>\n",
       "      <th>2</th>\n",
       "      <td>QC</td>\n",
       "      <td>Crops</td>\n",
       "      <td>2</td>\n",
       "      <td>Afghanistan</td>\n",
       "      <td>5419</td>\n",
       "      <td>Yield</td>\n",
       "      <td>56</td>\n",
       "      <td>Maize</td>\n",
       "      <td>1963</td>\n",
       "      <td>1963</td>\n",
       "      <td>hg/ha</td>\n",
       "      <td>14260</td>\n",
       "    </tr>\n",
       "    <tr>\n",
       "      <th>3</th>\n",
       "      <td>QC</td>\n",
       "      <td>Crops</td>\n",
       "      <td>2</td>\n",
       "      <td>Afghanistan</td>\n",
       "      <td>5419</td>\n",
       "      <td>Yield</td>\n",
       "      <td>56</td>\n",
       "      <td>Maize</td>\n",
       "      <td>1964</td>\n",
       "      <td>1964</td>\n",
       "      <td>hg/ha</td>\n",
       "      <td>14257</td>\n",
       "    </tr>\n",
       "    <tr>\n",
       "      <th>4</th>\n",
       "      <td>QC</td>\n",
       "      <td>Crops</td>\n",
       "      <td>2</td>\n",
       "      <td>Afghanistan</td>\n",
       "      <td>5419</td>\n",
       "      <td>Yield</td>\n",
       "      <td>56</td>\n",
       "      <td>Maize</td>\n",
       "      <td>1965</td>\n",
       "      <td>1965</td>\n",
       "      <td>hg/ha</td>\n",
       "      <td>14400</td>\n",
       "    </tr>\n",
       "    <tr>\n",
       "      <th>5</th>\n",
       "      <td>QC</td>\n",
       "      <td>Crops</td>\n",
       "      <td>2</td>\n",
       "      <td>Afghanistan</td>\n",
       "      <td>5419</td>\n",
       "      <td>Yield</td>\n",
       "      <td>56</td>\n",
       "      <td>Maize</td>\n",
       "      <td>1966</td>\n",
       "      <td>1966</td>\n",
       "      <td>hg/ha</td>\n",
       "      <td>14400</td>\n",
       "    </tr>\n",
       "    <tr>\n",
       "      <th>6</th>\n",
       "      <td>QC</td>\n",
       "      <td>Crops</td>\n",
       "      <td>2</td>\n",
       "      <td>Afghanistan</td>\n",
       "      <td>5419</td>\n",
       "      <td>Yield</td>\n",
       "      <td>56</td>\n",
       "      <td>Maize</td>\n",
       "      <td>1967</td>\n",
       "      <td>1967</td>\n",
       "      <td>hg/ha</td>\n",
       "      <td>14144</td>\n",
       "    </tr>\n",
       "    <tr>\n",
       "      <th>7</th>\n",
       "      <td>QC</td>\n",
       "      <td>Crops</td>\n",
       "      <td>2</td>\n",
       "      <td>Afghanistan</td>\n",
       "      <td>5419</td>\n",
       "      <td>Yield</td>\n",
       "      <td>56</td>\n",
       "      <td>Maize</td>\n",
       "      <td>1968</td>\n",
       "      <td>1968</td>\n",
       "      <td>hg/ha</td>\n",
       "      <td>17064</td>\n",
       "    </tr>\n",
       "    <tr>\n",
       "      <th>8</th>\n",
       "      <td>QC</td>\n",
       "      <td>Crops</td>\n",
       "      <td>2</td>\n",
       "      <td>Afghanistan</td>\n",
       "      <td>5419</td>\n",
       "      <td>Yield</td>\n",
       "      <td>56</td>\n",
       "      <td>Maize</td>\n",
       "      <td>1969</td>\n",
       "      <td>1969</td>\n",
       "      <td>hg/ha</td>\n",
       "      <td>17177</td>\n",
       "    </tr>\n",
       "    <tr>\n",
       "      <th>9</th>\n",
       "      <td>QC</td>\n",
       "      <td>Crops</td>\n",
       "      <td>2</td>\n",
       "      <td>Afghanistan</td>\n",
       "      <td>5419</td>\n",
       "      <td>Yield</td>\n",
       "      <td>56</td>\n",
       "      <td>Maize</td>\n",
       "      <td>1970</td>\n",
       "      <td>1970</td>\n",
       "      <td>hg/ha</td>\n",
       "      <td>14757</td>\n",
       "    </tr>\n",
       "  </tbody>\n",
       "</table>\n",
       "</div>"
      ],
      "text/plain": [
       "  Domain Code Domain  Area Code         Area  Element Code Element  Item Code  \\\n",
       "0          QC  Crops          2  Afghanistan          5419   Yield         56   \n",
       "1          QC  Crops          2  Afghanistan          5419   Yield         56   \n",
       "2          QC  Crops          2  Afghanistan          5419   Yield         56   \n",
       "3          QC  Crops          2  Afghanistan          5419   Yield         56   \n",
       "4          QC  Crops          2  Afghanistan          5419   Yield         56   \n",
       "5          QC  Crops          2  Afghanistan          5419   Yield         56   \n",
       "6          QC  Crops          2  Afghanistan          5419   Yield         56   \n",
       "7          QC  Crops          2  Afghanistan          5419   Yield         56   \n",
       "8          QC  Crops          2  Afghanistan          5419   Yield         56   \n",
       "9          QC  Crops          2  Afghanistan          5419   Yield         56   \n",
       "\n",
       "    Item  Year Code  Year   Unit  Value  \n",
       "0  Maize       1961  1961  hg/ha  14000  \n",
       "1  Maize       1962  1962  hg/ha  14000  \n",
       "2  Maize       1963  1963  hg/ha  14260  \n",
       "3  Maize       1964  1964  hg/ha  14257  \n",
       "4  Maize       1965  1965  hg/ha  14400  \n",
       "5  Maize       1966  1966  hg/ha  14400  \n",
       "6  Maize       1967  1967  hg/ha  14144  \n",
       "7  Maize       1968  1968  hg/ha  17064  \n",
       "8  Maize       1969  1969  hg/ha  17177  \n",
       "9  Maize       1970  1970  hg/ha  14757  "
      ]
     },
     "execution_count": 2,
     "metadata": {},
     "output_type": "execute_result"
    }
   ],
   "source": [
    "# loading data: Crops Yield Data\n",
    "\n",
    "df_yield = pd.read_csv('yield.csv')\n",
    "df_yield.head(10)"
   ]
  },
  {
   "cell_type": "code",
   "execution_count": 3,
   "id": "332f6d78",
   "metadata": {},
   "outputs": [
    {
     "data": {
      "text/plain": [
       "(56717, 12)"
      ]
     },
     "execution_count": 3,
     "metadata": {},
     "output_type": "execute_result"
    }
   ],
   "source": [
    "df_yield.shape"
   ]
  },
  {
   "cell_type": "code",
   "execution_count": 4,
   "id": "77f000de",
   "metadata": {},
   "outputs": [
    {
     "data": {
      "text/html": [
       "<div>\n",
       "<style scoped>\n",
       "    .dataframe tbody tr th:only-of-type {\n",
       "        vertical-align: middle;\n",
       "    }\n",
       "\n",
       "    .dataframe tbody tr th {\n",
       "        vertical-align: top;\n",
       "    }\n",
       "\n",
       "    .dataframe thead th {\n",
       "        text-align: right;\n",
       "    }\n",
       "</style>\n",
       "<table border=\"1\" class=\"dataframe\">\n",
       "  <thead>\n",
       "    <tr style=\"text-align: right;\">\n",
       "      <th></th>\n",
       "      <th>Area Code</th>\n",
       "      <th>Element Code</th>\n",
       "      <th>Item Code</th>\n",
       "      <th>Year Code</th>\n",
       "      <th>Year</th>\n",
       "      <th>Value</th>\n",
       "    </tr>\n",
       "  </thead>\n",
       "  <tbody>\n",
       "    <tr>\n",
       "      <th>count</th>\n",
       "      <td>56717.000000</td>\n",
       "      <td>56717.0</td>\n",
       "      <td>56717.000000</td>\n",
       "      <td>56717.000000</td>\n",
       "      <td>56717.000000</td>\n",
       "      <td>56717.000000</td>\n",
       "    </tr>\n",
       "    <tr>\n",
       "      <th>mean</th>\n",
       "      <td>125.650422</td>\n",
       "      <td>5419.0</td>\n",
       "      <td>111.611651</td>\n",
       "      <td>1989.669570</td>\n",
       "      <td>1989.669570</td>\n",
       "      <td>62094.660084</td>\n",
       "    </tr>\n",
       "    <tr>\n",
       "      <th>std</th>\n",
       "      <td>75.120195</td>\n",
       "      <td>0.0</td>\n",
       "      <td>101.278435</td>\n",
       "      <td>16.133198</td>\n",
       "      <td>16.133198</td>\n",
       "      <td>67835.932856</td>\n",
       "    </tr>\n",
       "    <tr>\n",
       "      <th>min</th>\n",
       "      <td>1.000000</td>\n",
       "      <td>5419.0</td>\n",
       "      <td>15.000000</td>\n",
       "      <td>1961.000000</td>\n",
       "      <td>1961.000000</td>\n",
       "      <td>0.000000</td>\n",
       "    </tr>\n",
       "    <tr>\n",
       "      <th>25%</th>\n",
       "      <td>58.000000</td>\n",
       "      <td>5419.0</td>\n",
       "      <td>56.000000</td>\n",
       "      <td>1976.000000</td>\n",
       "      <td>1976.000000</td>\n",
       "      <td>15680.000000</td>\n",
       "    </tr>\n",
       "    <tr>\n",
       "      <th>50%</th>\n",
       "      <td>122.000000</td>\n",
       "      <td>5419.0</td>\n",
       "      <td>116.000000</td>\n",
       "      <td>1991.000000</td>\n",
       "      <td>1991.000000</td>\n",
       "      <td>36744.000000</td>\n",
       "    </tr>\n",
       "    <tr>\n",
       "      <th>75%</th>\n",
       "      <td>184.000000</td>\n",
       "      <td>5419.0</td>\n",
       "      <td>125.000000</td>\n",
       "      <td>2004.000000</td>\n",
       "      <td>2004.000000</td>\n",
       "      <td>86213.000000</td>\n",
       "    </tr>\n",
       "    <tr>\n",
       "      <th>max</th>\n",
       "      <td>351.000000</td>\n",
       "      <td>5419.0</td>\n",
       "      <td>489.000000</td>\n",
       "      <td>2016.000000</td>\n",
       "      <td>2016.000000</td>\n",
       "      <td>1000000.000000</td>\n",
       "    </tr>\n",
       "  </tbody>\n",
       "</table>\n",
       "</div>"
      ],
      "text/plain": [
       "          Area Code  Element Code     Item Code     Year Code          Year  \\\n",
       "count  56717.000000       56717.0  56717.000000  56717.000000  56717.000000   \n",
       "mean     125.650422        5419.0    111.611651   1989.669570   1989.669570   \n",
       "std       75.120195           0.0    101.278435     16.133198     16.133198   \n",
       "min        1.000000        5419.0     15.000000   1961.000000   1961.000000   \n",
       "25%       58.000000        5419.0     56.000000   1976.000000   1976.000000   \n",
       "50%      122.000000        5419.0    116.000000   1991.000000   1991.000000   \n",
       "75%      184.000000        5419.0    125.000000   2004.000000   2004.000000   \n",
       "max      351.000000        5419.0    489.000000   2016.000000   2016.000000   \n",
       "\n",
       "                Value  \n",
       "count    56717.000000  \n",
       "mean     62094.660084  \n",
       "std      67835.932856  \n",
       "min          0.000000  \n",
       "25%      15680.000000  \n",
       "50%      36744.000000  \n",
       "75%      86213.000000  \n",
       "max    1000000.000000  "
      ]
     },
     "execution_count": 4,
     "metadata": {},
     "output_type": "execute_result"
    }
   ],
   "source": [
    "df_yield.describe()"
   ]
  },
  {
   "cell_type": "code",
   "execution_count": 5,
   "id": "83235614",
   "metadata": {},
   "outputs": [
    {
     "data": {
      "text/plain": [
       "Domain Code     object\n",
       "Domain          object\n",
       "Area Code        int64\n",
       "Area            object\n",
       "Element Code     int64\n",
       "Element         object\n",
       "Item Code        int64\n",
       "Item            object\n",
       "Year Code        int64\n",
       "Year             int64\n",
       "Unit            object\n",
       "Value            int64\n",
       "dtype: object"
      ]
     },
     "execution_count": 5,
     "metadata": {},
     "output_type": "execute_result"
    }
   ],
   "source": [
    "df_yield.dtypes"
   ]
  },
  {
   "cell_type": "code",
   "execution_count": 6,
   "id": "810cc32f",
   "metadata": {},
   "outputs": [],
   "source": [
    "# dropping unwanted columns\n",
    "\n",
    "df_yield = df_yield.drop(['Domain', 'Domain Code', 'Area Code', 'Element Code', 'Item Code', 'Year Code', 'Unit', 'Element'], axis=1)"
   ]
  },
  {
   "cell_type": "code",
   "execution_count": 7,
   "id": "c81c1797",
   "metadata": {},
   "outputs": [
    {
     "data": {
      "text/html": [
       "<div>\n",
       "<style scoped>\n",
       "    .dataframe tbody tr th:only-of-type {\n",
       "        vertical-align: middle;\n",
       "    }\n",
       "\n",
       "    .dataframe tbody tr th {\n",
       "        vertical-align: top;\n",
       "    }\n",
       "\n",
       "    .dataframe thead th {\n",
       "        text-align: right;\n",
       "    }\n",
       "</style>\n",
       "<table border=\"1\" class=\"dataframe\">\n",
       "  <thead>\n",
       "    <tr style=\"text-align: right;\">\n",
       "      <th></th>\n",
       "      <th>Area</th>\n",
       "      <th>Item</th>\n",
       "      <th>Year</th>\n",
       "      <th>Value</th>\n",
       "    </tr>\n",
       "  </thead>\n",
       "  <tbody>\n",
       "    <tr>\n",
       "      <th>0</th>\n",
       "      <td>Afghanistan</td>\n",
       "      <td>Maize</td>\n",
       "      <td>1961</td>\n",
       "      <td>14000</td>\n",
       "    </tr>\n",
       "    <tr>\n",
       "      <th>1</th>\n",
       "      <td>Afghanistan</td>\n",
       "      <td>Maize</td>\n",
       "      <td>1962</td>\n",
       "      <td>14000</td>\n",
       "    </tr>\n",
       "    <tr>\n",
       "      <th>2</th>\n",
       "      <td>Afghanistan</td>\n",
       "      <td>Maize</td>\n",
       "      <td>1963</td>\n",
       "      <td>14260</td>\n",
       "    </tr>\n",
       "    <tr>\n",
       "      <th>3</th>\n",
       "      <td>Afghanistan</td>\n",
       "      <td>Maize</td>\n",
       "      <td>1964</td>\n",
       "      <td>14257</td>\n",
       "    </tr>\n",
       "    <tr>\n",
       "      <th>4</th>\n",
       "      <td>Afghanistan</td>\n",
       "      <td>Maize</td>\n",
       "      <td>1965</td>\n",
       "      <td>14400</td>\n",
       "    </tr>\n",
       "    <tr>\n",
       "      <th>5</th>\n",
       "      <td>Afghanistan</td>\n",
       "      <td>Maize</td>\n",
       "      <td>1966</td>\n",
       "      <td>14400</td>\n",
       "    </tr>\n",
       "    <tr>\n",
       "      <th>6</th>\n",
       "      <td>Afghanistan</td>\n",
       "      <td>Maize</td>\n",
       "      <td>1967</td>\n",
       "      <td>14144</td>\n",
       "    </tr>\n",
       "    <tr>\n",
       "      <th>7</th>\n",
       "      <td>Afghanistan</td>\n",
       "      <td>Maize</td>\n",
       "      <td>1968</td>\n",
       "      <td>17064</td>\n",
       "    </tr>\n",
       "    <tr>\n",
       "      <th>8</th>\n",
       "      <td>Afghanistan</td>\n",
       "      <td>Maize</td>\n",
       "      <td>1969</td>\n",
       "      <td>17177</td>\n",
       "    </tr>\n",
       "    <tr>\n",
       "      <th>9</th>\n",
       "      <td>Afghanistan</td>\n",
       "      <td>Maize</td>\n",
       "      <td>1970</td>\n",
       "      <td>14757</td>\n",
       "    </tr>\n",
       "  </tbody>\n",
       "</table>\n",
       "</div>"
      ],
      "text/plain": [
       "          Area   Item  Year  Value\n",
       "0  Afghanistan  Maize  1961  14000\n",
       "1  Afghanistan  Maize  1962  14000\n",
       "2  Afghanistan  Maize  1963  14260\n",
       "3  Afghanistan  Maize  1964  14257\n",
       "4  Afghanistan  Maize  1965  14400\n",
       "5  Afghanistan  Maize  1966  14400\n",
       "6  Afghanistan  Maize  1967  14144\n",
       "7  Afghanistan  Maize  1968  17064\n",
       "8  Afghanistan  Maize  1969  17177\n",
       "9  Afghanistan  Maize  1970  14757"
      ]
     },
     "execution_count": 7,
     "metadata": {},
     "output_type": "execute_result"
    }
   ],
   "source": [
    "df_yield.head(10)"
   ]
  },
  {
   "cell_type": "code",
   "execution_count": 8,
   "id": "70c75e4c",
   "metadata": {},
   "outputs": [
    {
     "data": {
      "text/plain": [
       "Area     False\n",
       "Item     False\n",
       "Year     False\n",
       "Value    False\n",
       "dtype: bool"
      ]
     },
     "execution_count": 8,
     "metadata": {},
     "output_type": "execute_result"
    }
   ],
   "source": [
    "# dealing with missing data\n",
    "\n",
    "df_yield.isnull().any()"
   ]
  },
  {
   "cell_type": "code",
   "execution_count": 9,
   "id": "5066fe86",
   "metadata": {},
   "outputs": [
    {
     "name": "stdout",
     "output_type": "stream",
     "text": [
      "<class 'pandas.core.frame.DataFrame'>\n",
      "RangeIndex: 56717 entries, 0 to 56716\n",
      "Data columns (total 4 columns):\n",
      " #   Column  Non-Null Count  Dtype \n",
      "---  ------  --------------  ----- \n",
      " 0   Area    56717 non-null  object\n",
      " 1   Item    56717 non-null  object\n",
      " 2   Year    56717 non-null  int64 \n",
      " 3   Value   56717 non-null  int64 \n",
      "dtypes: int64(2), object(2)\n",
      "memory usage: 1.7+ MB\n"
     ]
    }
   ],
   "source": [
    "df_yield.info(verbose = True, show_counts = True)"
   ]
  },
  {
   "cell_type": "code",
   "execution_count": 10,
   "id": "428fb026",
   "metadata": {},
   "outputs": [
    {
     "data": {
      "text/html": [
       "<div>\n",
       "<style scoped>\n",
       "    .dataframe tbody tr th:only-of-type {\n",
       "        vertical-align: middle;\n",
       "    }\n",
       "\n",
       "    .dataframe tbody tr th {\n",
       "        vertical-align: top;\n",
       "    }\n",
       "\n",
       "    .dataframe thead th {\n",
       "        text-align: right;\n",
       "    }\n",
       "</style>\n",
       "<table border=\"1\" class=\"dataframe\">\n",
       "  <thead>\n",
       "    <tr style=\"text-align: right;\">\n",
       "      <th></th>\n",
       "      <th>Item</th>\n",
       "      <th>Year</th>\n",
       "      <th>Value</th>\n",
       "    </tr>\n",
       "    <tr>\n",
       "      <th>Area</th>\n",
       "      <th></th>\n",
       "      <th></th>\n",
       "      <th></th>\n",
       "    </tr>\n",
       "  </thead>\n",
       "  <tbody>\n",
       "    <tr>\n",
       "      <th>Afghanistan</th>\n",
       "      <td>Maize</td>\n",
       "      <td>1961</td>\n",
       "      <td>14000</td>\n",
       "    </tr>\n",
       "    <tr>\n",
       "      <th>Albania</th>\n",
       "      <td>Maize</td>\n",
       "      <td>1961</td>\n",
       "      <td>9541</td>\n",
       "    </tr>\n",
       "    <tr>\n",
       "      <th>Algeria</th>\n",
       "      <td>Maize</td>\n",
       "      <td>1961</td>\n",
       "      <td>9746</td>\n",
       "    </tr>\n",
       "    <tr>\n",
       "      <th>American Samoa</th>\n",
       "      <td>Cassava</td>\n",
       "      <td>1961</td>\n",
       "      <td>133333</td>\n",
       "    </tr>\n",
       "    <tr>\n",
       "      <th>Angola</th>\n",
       "      <td>Cassava</td>\n",
       "      <td>1961</td>\n",
       "      <td>35714</td>\n",
       "    </tr>\n",
       "    <tr>\n",
       "      <th>...</th>\n",
       "      <td>...</td>\n",
       "      <td>...</td>\n",
       "      <td>...</td>\n",
       "    </tr>\n",
       "    <tr>\n",
       "      <th>Wallis and Futuna Islands</th>\n",
       "      <td>Cassava</td>\n",
       "      <td>1961</td>\n",
       "      <td>90909</td>\n",
       "    </tr>\n",
       "    <tr>\n",
       "      <th>Yemen</th>\n",
       "      <td>Maize</td>\n",
       "      <td>1961</td>\n",
       "      <td>24400</td>\n",
       "    </tr>\n",
       "    <tr>\n",
       "      <th>Yugoslav SFR</th>\n",
       "      <td>Maize</td>\n",
       "      <td>1961</td>\n",
       "      <td>18122</td>\n",
       "    </tr>\n",
       "    <tr>\n",
       "      <th>Zambia</th>\n",
       "      <td>Cassava</td>\n",
       "      <td>1961</td>\n",
       "      <td>62500</td>\n",
       "    </tr>\n",
       "    <tr>\n",
       "      <th>Zimbabwe</th>\n",
       "      <td>Cassava</td>\n",
       "      <td>1961</td>\n",
       "      <td>29286</td>\n",
       "    </tr>\n",
       "  </tbody>\n",
       "</table>\n",
       "<p>212 rows × 3 columns</p>\n",
       "</div>"
      ],
      "text/plain": [
       "                              Item  Year   Value\n",
       "Area                                            \n",
       "Afghanistan                  Maize  1961   14000\n",
       "Albania                      Maize  1961    9541\n",
       "Algeria                      Maize  1961    9746\n",
       "American Samoa             Cassava  1961  133333\n",
       "Angola                     Cassava  1961   35714\n",
       "...                            ...   ...     ...\n",
       "Wallis and Futuna Islands  Cassava  1961   90909\n",
       "Yemen                        Maize  1961   24400\n",
       "Yugoslav SFR                 Maize  1961   18122\n",
       "Zambia                     Cassava  1961   62500\n",
       "Zimbabwe                   Cassava  1961   29286\n",
       "\n",
       "[212 rows x 3 columns]"
      ]
     },
     "execution_count": 10,
     "metadata": {},
     "output_type": "execute_result"
    }
   ],
   "source": [
    "df_yield.groupby('Area').first()"
   ]
  },
  {
   "cell_type": "markdown",
   "id": "c9aa23c3",
   "metadata": {},
   "source": [
    "### Climate Data: df_rain"
   ]
  },
  {
   "cell_type": "code",
   "execution_count": 11,
   "id": "c6bd7781",
   "metadata": {},
   "outputs": [
    {
     "data": {
      "text/html": [
       "<div>\n",
       "<style scoped>\n",
       "    .dataframe tbody tr th:only-of-type {\n",
       "        vertical-align: middle;\n",
       "    }\n",
       "\n",
       "    .dataframe tbody tr th {\n",
       "        vertical-align: top;\n",
       "    }\n",
       "\n",
       "    .dataframe thead th {\n",
       "        text-align: right;\n",
       "    }\n",
       "</style>\n",
       "<table border=\"1\" class=\"dataframe\">\n",
       "  <thead>\n",
       "    <tr style=\"text-align: right;\">\n",
       "      <th></th>\n",
       "      <th>Area</th>\n",
       "      <th>Year</th>\n",
       "      <th>average_rain_fall_mm_per_year</th>\n",
       "    </tr>\n",
       "  </thead>\n",
       "  <tbody>\n",
       "    <tr>\n",
       "      <th>0</th>\n",
       "      <td>Afghanistan</td>\n",
       "      <td>1985</td>\n",
       "      <td>327</td>\n",
       "    </tr>\n",
       "    <tr>\n",
       "      <th>1</th>\n",
       "      <td>Afghanistan</td>\n",
       "      <td>1986</td>\n",
       "      <td>327</td>\n",
       "    </tr>\n",
       "    <tr>\n",
       "      <th>2</th>\n",
       "      <td>Afghanistan</td>\n",
       "      <td>1987</td>\n",
       "      <td>327</td>\n",
       "    </tr>\n",
       "    <tr>\n",
       "      <th>3</th>\n",
       "      <td>Afghanistan</td>\n",
       "      <td>1989</td>\n",
       "      <td>327</td>\n",
       "    </tr>\n",
       "    <tr>\n",
       "      <th>4</th>\n",
       "      <td>Afghanistan</td>\n",
       "      <td>1990</td>\n",
       "      <td>327</td>\n",
       "    </tr>\n",
       "    <tr>\n",
       "      <th>5</th>\n",
       "      <td>Afghanistan</td>\n",
       "      <td>1991</td>\n",
       "      <td>327</td>\n",
       "    </tr>\n",
       "    <tr>\n",
       "      <th>6</th>\n",
       "      <td>Afghanistan</td>\n",
       "      <td>1992</td>\n",
       "      <td>327</td>\n",
       "    </tr>\n",
       "    <tr>\n",
       "      <th>7</th>\n",
       "      <td>Afghanistan</td>\n",
       "      <td>1993</td>\n",
       "      <td>327</td>\n",
       "    </tr>\n",
       "    <tr>\n",
       "      <th>8</th>\n",
       "      <td>Afghanistan</td>\n",
       "      <td>1994</td>\n",
       "      <td>327</td>\n",
       "    </tr>\n",
       "    <tr>\n",
       "      <th>9</th>\n",
       "      <td>Afghanistan</td>\n",
       "      <td>1995</td>\n",
       "      <td>327</td>\n",
       "    </tr>\n",
       "  </tbody>\n",
       "</table>\n",
       "</div>"
      ],
      "text/plain": [
       "          Area  Year average_rain_fall_mm_per_year\n",
       "0  Afghanistan  1985                           327\n",
       "1  Afghanistan  1986                           327\n",
       "2  Afghanistan  1987                           327\n",
       "3  Afghanistan  1989                           327\n",
       "4  Afghanistan  1990                           327\n",
       "5  Afghanistan  1991                           327\n",
       "6  Afghanistan  1992                           327\n",
       "7  Afghanistan  1993                           327\n",
       "8  Afghanistan  1994                           327\n",
       "9  Afghanistan  1995                           327"
      ]
     },
     "execution_count": 11,
     "metadata": {},
     "output_type": "execute_result"
    }
   ],
   "source": [
    "# loading data: Climate Data : Rainfall\n",
    "\n",
    "df_rain = pd.read_csv('rainfall.csv')\n",
    "df_rain.head(10)"
   ]
  },
  {
   "cell_type": "code",
   "execution_count": 12,
   "id": "33816a28",
   "metadata": {},
   "outputs": [
    {
     "data": {
      "text/plain": [
       "(6727, 3)"
      ]
     },
     "execution_count": 12,
     "metadata": {},
     "output_type": "execute_result"
    }
   ],
   "source": [
    "df_rain.shape"
   ]
  },
  {
   "cell_type": "code",
   "execution_count": 13,
   "id": "34fe99ca",
   "metadata": {},
   "outputs": [
    {
     "data": {
      "text/plain": [
       " Area                            False\n",
       "Year                             False\n",
       "average_rain_fall_mm_per_year     True\n",
       "dtype: bool"
      ]
     },
     "execution_count": 13,
     "metadata": {},
     "output_type": "execute_result"
    }
   ],
   "source": [
    "df_rain.isnull().any()"
   ]
  },
  {
   "cell_type": "code",
   "execution_count": 14,
   "id": "c7c9f18f",
   "metadata": {},
   "outputs": [
    {
     "data": {
      "text/html": [
       "<div>\n",
       "<style scoped>\n",
       "    .dataframe tbody tr th:only-of-type {\n",
       "        vertical-align: middle;\n",
       "    }\n",
       "\n",
       "    .dataframe tbody tr th {\n",
       "        vertical-align: top;\n",
       "    }\n",
       "\n",
       "    .dataframe thead th {\n",
       "        text-align: right;\n",
       "    }\n",
       "</style>\n",
       "<table border=\"1\" class=\"dataframe\">\n",
       "  <thead>\n",
       "    <tr style=\"text-align: right;\">\n",
       "      <th></th>\n",
       "      <th>Area</th>\n",
       "      <th>Year</th>\n",
       "      <th>average_rain_fall_mm_per_year</th>\n",
       "    </tr>\n",
       "  </thead>\n",
       "  <tbody>\n",
       "    <tr>\n",
       "      <th>0</th>\n",
       "      <td>Afghanistan</td>\n",
       "      <td>1985</td>\n",
       "      <td>327</td>\n",
       "    </tr>\n",
       "    <tr>\n",
       "      <th>1</th>\n",
       "      <td>Afghanistan</td>\n",
       "      <td>1986</td>\n",
       "      <td>327</td>\n",
       "    </tr>\n",
       "    <tr>\n",
       "      <th>2</th>\n",
       "      <td>Afghanistan</td>\n",
       "      <td>1987</td>\n",
       "      <td>327</td>\n",
       "    </tr>\n",
       "    <tr>\n",
       "      <th>3</th>\n",
       "      <td>Afghanistan</td>\n",
       "      <td>1989</td>\n",
       "      <td>327</td>\n",
       "    </tr>\n",
       "    <tr>\n",
       "      <th>4</th>\n",
       "      <td>Afghanistan</td>\n",
       "      <td>1990</td>\n",
       "      <td>327</td>\n",
       "    </tr>\n",
       "    <tr>\n",
       "      <th>...</th>\n",
       "      <td>...</td>\n",
       "      <td>...</td>\n",
       "      <td>...</td>\n",
       "    </tr>\n",
       "    <tr>\n",
       "      <th>6722</th>\n",
       "      <td>Zimbabwe</td>\n",
       "      <td>2013</td>\n",
       "      <td>657</td>\n",
       "    </tr>\n",
       "    <tr>\n",
       "      <th>6723</th>\n",
       "      <td>Zimbabwe</td>\n",
       "      <td>2014</td>\n",
       "      <td>657</td>\n",
       "    </tr>\n",
       "    <tr>\n",
       "      <th>6724</th>\n",
       "      <td>Zimbabwe</td>\n",
       "      <td>2015</td>\n",
       "      <td>657</td>\n",
       "    </tr>\n",
       "    <tr>\n",
       "      <th>6725</th>\n",
       "      <td>Zimbabwe</td>\n",
       "      <td>2016</td>\n",
       "      <td>657</td>\n",
       "    </tr>\n",
       "    <tr>\n",
       "      <th>6726</th>\n",
       "      <td>Zimbabwe</td>\n",
       "      <td>2017</td>\n",
       "      <td>657</td>\n",
       "    </tr>\n",
       "  </tbody>\n",
       "</table>\n",
       "<p>5953 rows × 3 columns</p>\n",
       "</div>"
      ],
      "text/plain": [
       "             Area  Year average_rain_fall_mm_per_year\n",
       "0     Afghanistan  1985                           327\n",
       "1     Afghanistan  1986                           327\n",
       "2     Afghanistan  1987                           327\n",
       "3     Afghanistan  1989                           327\n",
       "4     Afghanistan  1990                           327\n",
       "...           ...   ...                           ...\n",
       "6722     Zimbabwe  2013                           657\n",
       "6723     Zimbabwe  2014                           657\n",
       "6724     Zimbabwe  2015                           657\n",
       "6725     Zimbabwe  2016                           657\n",
       "6726     Zimbabwe  2017                           657\n",
       "\n",
       "[5953 rows x 3 columns]"
      ]
     },
     "execution_count": 14,
     "metadata": {},
     "output_type": "execute_result"
    }
   ],
   "source": [
    "df_rain.dropna()"
   ]
  },
  {
   "cell_type": "code",
   "execution_count": 15,
   "id": "5a7ed4c0",
   "metadata": {},
   "outputs": [
    {
     "data": {
      "text/plain": [
       " Area                            object\n",
       "Year                              int64\n",
       "average_rain_fall_mm_per_year    object\n",
       "dtype: object"
      ]
     },
     "execution_count": 15,
     "metadata": {},
     "output_type": "execute_result"
    }
   ],
   "source": [
    "df_rain.dtypes"
   ]
  },
  {
   "cell_type": "code",
   "execution_count": 16,
   "id": "e48211d4",
   "metadata": {},
   "outputs": [],
   "source": [
    "df_rain['average_rain_fall_mm_per_year'] = pd.to_numeric(df_rain['average_rain_fall_mm_per_year'],errors = 'coerce')"
   ]
  },
  {
   "cell_type": "code",
   "execution_count": 17,
   "id": "09e53419",
   "metadata": {},
   "outputs": [
    {
     "data": {
      "text/html": [
       "<div>\n",
       "<style scoped>\n",
       "    .dataframe tbody tr th:only-of-type {\n",
       "        vertical-align: middle;\n",
       "    }\n",
       "\n",
       "    .dataframe tbody tr th {\n",
       "        vertical-align: top;\n",
       "    }\n",
       "\n",
       "    .dataframe thead th {\n",
       "        text-align: right;\n",
       "    }\n",
       "</style>\n",
       "<table border=\"1\" class=\"dataframe\">\n",
       "  <thead>\n",
       "    <tr style=\"text-align: right;\">\n",
       "      <th></th>\n",
       "      <th>Area</th>\n",
       "      <th>Year</th>\n",
       "      <th>average_rain_fall_mm_per_year</th>\n",
       "    </tr>\n",
       "  </thead>\n",
       "  <tbody>\n",
       "    <tr>\n",
       "      <th>0</th>\n",
       "      <td>Afghanistan</td>\n",
       "      <td>1985</td>\n",
       "      <td>327.0</td>\n",
       "    </tr>\n",
       "    <tr>\n",
       "      <th>1</th>\n",
       "      <td>Afghanistan</td>\n",
       "      <td>1986</td>\n",
       "      <td>327.0</td>\n",
       "    </tr>\n",
       "    <tr>\n",
       "      <th>2</th>\n",
       "      <td>Afghanistan</td>\n",
       "      <td>1987</td>\n",
       "      <td>327.0</td>\n",
       "    </tr>\n",
       "    <tr>\n",
       "      <th>3</th>\n",
       "      <td>Afghanistan</td>\n",
       "      <td>1989</td>\n",
       "      <td>327.0</td>\n",
       "    </tr>\n",
       "    <tr>\n",
       "      <th>4</th>\n",
       "      <td>Afghanistan</td>\n",
       "      <td>1990</td>\n",
       "      <td>327.0</td>\n",
       "    </tr>\n",
       "    <tr>\n",
       "      <th>5</th>\n",
       "      <td>Afghanistan</td>\n",
       "      <td>1991</td>\n",
       "      <td>327.0</td>\n",
       "    </tr>\n",
       "    <tr>\n",
       "      <th>6</th>\n",
       "      <td>Afghanistan</td>\n",
       "      <td>1992</td>\n",
       "      <td>327.0</td>\n",
       "    </tr>\n",
       "    <tr>\n",
       "      <th>7</th>\n",
       "      <td>Afghanistan</td>\n",
       "      <td>1993</td>\n",
       "      <td>327.0</td>\n",
       "    </tr>\n",
       "    <tr>\n",
       "      <th>8</th>\n",
       "      <td>Afghanistan</td>\n",
       "      <td>1994</td>\n",
       "      <td>327.0</td>\n",
       "    </tr>\n",
       "    <tr>\n",
       "      <th>9</th>\n",
       "      <td>Afghanistan</td>\n",
       "      <td>1995</td>\n",
       "      <td>327.0</td>\n",
       "    </tr>\n",
       "  </tbody>\n",
       "</table>\n",
       "</div>"
      ],
      "text/plain": [
       "          Area  Year  average_rain_fall_mm_per_year\n",
       "0  Afghanistan  1985                          327.0\n",
       "1  Afghanistan  1986                          327.0\n",
       "2  Afghanistan  1987                          327.0\n",
       "3  Afghanistan  1989                          327.0\n",
       "4  Afghanistan  1990                          327.0\n",
       "5  Afghanistan  1991                          327.0\n",
       "6  Afghanistan  1992                          327.0\n",
       "7  Afghanistan  1993                          327.0\n",
       "8  Afghanistan  1994                          327.0\n",
       "9  Afghanistan  1995                          327.0"
      ]
     },
     "execution_count": 17,
     "metadata": {},
     "output_type": "execute_result"
    }
   ],
   "source": [
    "df_rain.head(10)"
   ]
  },
  {
   "cell_type": "code",
   "execution_count": 18,
   "id": "c15044a4",
   "metadata": {},
   "outputs": [
    {
     "data": {
      "text/plain": [
       " Area                            False\n",
       "Year                             False\n",
       "average_rain_fall_mm_per_year     True\n",
       "dtype: bool"
      ]
     },
     "execution_count": 18,
     "metadata": {},
     "output_type": "execute_result"
    }
   ],
   "source": [
    "df_rain.isnull().any()"
   ]
  },
  {
   "cell_type": "code",
   "execution_count": 19,
   "id": "02dfc30a",
   "metadata": {},
   "outputs": [],
   "source": [
    "df_rain = df_rain.dropna()"
   ]
  },
  {
   "cell_type": "code",
   "execution_count": 20,
   "id": "44f9ca24",
   "metadata": {},
   "outputs": [
    {
     "data": {
      "text/plain": [
       " Area                            False\n",
       "Year                             False\n",
       "average_rain_fall_mm_per_year    False\n",
       "dtype: bool"
      ]
     },
     "execution_count": 20,
     "metadata": {},
     "output_type": "execute_result"
    }
   ],
   "source": [
    "df_rain.isnull().any()"
   ]
  },
  {
   "cell_type": "code",
   "execution_count": 21,
   "id": "572f75c0",
   "metadata": {},
   "outputs": [],
   "source": [
    "# merging df_rain and df_yield\n",
    "\n",
    "df_rain = df_rain.rename(index=str, columns={\" Area\": 'Area'})\n",
    "\n",
    "yield_df = pd.merge(df_yield, df_rain, on=['Year','Area'])"
   ]
  },
  {
   "cell_type": "code",
   "execution_count": 22,
   "id": "47725ce1",
   "metadata": {},
   "outputs": [
    {
     "data": {
      "text/html": [
       "<div>\n",
       "<style scoped>\n",
       "    .dataframe tbody tr th:only-of-type {\n",
       "        vertical-align: middle;\n",
       "    }\n",
       "\n",
       "    .dataframe tbody tr th {\n",
       "        vertical-align: top;\n",
       "    }\n",
       "\n",
       "    .dataframe thead th {\n",
       "        text-align: right;\n",
       "    }\n",
       "</style>\n",
       "<table border=\"1\" class=\"dataframe\">\n",
       "  <thead>\n",
       "    <tr style=\"text-align: right;\">\n",
       "      <th></th>\n",
       "      <th>Area</th>\n",
       "      <th>Item</th>\n",
       "      <th>Year</th>\n",
       "      <th>Value</th>\n",
       "      <th>average_rain_fall_mm_per_year</th>\n",
       "    </tr>\n",
       "  </thead>\n",
       "  <tbody>\n",
       "    <tr>\n",
       "      <th>0</th>\n",
       "      <td>Afghanistan</td>\n",
       "      <td>Maize</td>\n",
       "      <td>1985</td>\n",
       "      <td>16652</td>\n",
       "      <td>327.0</td>\n",
       "    </tr>\n",
       "    <tr>\n",
       "      <th>1</th>\n",
       "      <td>Afghanistan</td>\n",
       "      <td>Potatoes</td>\n",
       "      <td>1985</td>\n",
       "      <td>140909</td>\n",
       "      <td>327.0</td>\n",
       "    </tr>\n",
       "    <tr>\n",
       "      <th>2</th>\n",
       "      <td>Afghanistan</td>\n",
       "      <td>Rice, paddy</td>\n",
       "      <td>1985</td>\n",
       "      <td>22482</td>\n",
       "      <td>327.0</td>\n",
       "    </tr>\n",
       "    <tr>\n",
       "      <th>3</th>\n",
       "      <td>Afghanistan</td>\n",
       "      <td>Wheat</td>\n",
       "      <td>1985</td>\n",
       "      <td>12277</td>\n",
       "      <td>327.0</td>\n",
       "    </tr>\n",
       "    <tr>\n",
       "      <th>4</th>\n",
       "      <td>Afghanistan</td>\n",
       "      <td>Maize</td>\n",
       "      <td>1986</td>\n",
       "      <td>16875</td>\n",
       "      <td>327.0</td>\n",
       "    </tr>\n",
       "    <tr>\n",
       "      <th>5</th>\n",
       "      <td>Afghanistan</td>\n",
       "      <td>Potatoes</td>\n",
       "      <td>1986</td>\n",
       "      <td>158667</td>\n",
       "      <td>327.0</td>\n",
       "    </tr>\n",
       "    <tr>\n",
       "      <th>6</th>\n",
       "      <td>Afghanistan</td>\n",
       "      <td>Rice, paddy</td>\n",
       "      <td>1986</td>\n",
       "      <td>22400</td>\n",
       "      <td>327.0</td>\n",
       "    </tr>\n",
       "    <tr>\n",
       "      <th>7</th>\n",
       "      <td>Afghanistan</td>\n",
       "      <td>Wheat</td>\n",
       "      <td>1986</td>\n",
       "      <td>11890</td>\n",
       "      <td>327.0</td>\n",
       "    </tr>\n",
       "    <tr>\n",
       "      <th>8</th>\n",
       "      <td>Afghanistan</td>\n",
       "      <td>Maize</td>\n",
       "      <td>1987</td>\n",
       "      <td>17020</td>\n",
       "      <td>327.0</td>\n",
       "    </tr>\n",
       "    <tr>\n",
       "      <th>9</th>\n",
       "      <td>Afghanistan</td>\n",
       "      <td>Potatoes</td>\n",
       "      <td>1987</td>\n",
       "      <td>155000</td>\n",
       "      <td>327.0</td>\n",
       "    </tr>\n",
       "  </tbody>\n",
       "</table>\n",
       "</div>"
      ],
      "text/plain": [
       "          Area         Item  Year   Value  average_rain_fall_mm_per_year\n",
       "0  Afghanistan        Maize  1985   16652                          327.0\n",
       "1  Afghanistan     Potatoes  1985  140909                          327.0\n",
       "2  Afghanistan  Rice, paddy  1985   22482                          327.0\n",
       "3  Afghanistan        Wheat  1985   12277                          327.0\n",
       "4  Afghanistan        Maize  1986   16875                          327.0\n",
       "5  Afghanistan     Potatoes  1986  158667                          327.0\n",
       "6  Afghanistan  Rice, paddy  1986   22400                          327.0\n",
       "7  Afghanistan        Wheat  1986   11890                          327.0\n",
       "8  Afghanistan        Maize  1987   17020                          327.0\n",
       "9  Afghanistan     Potatoes  1987  155000                          327.0"
      ]
     },
     "execution_count": 22,
     "metadata": {},
     "output_type": "execute_result"
    }
   ],
   "source": [
    "yield_df.head(10)"
   ]
  },
  {
   "cell_type": "code",
   "execution_count": 23,
   "id": "fd7d2b44",
   "metadata": {},
   "outputs": [
    {
     "data": {
      "text/plain": [
       "(25385, 5)"
      ]
     },
     "execution_count": 23,
     "metadata": {},
     "output_type": "execute_result"
    }
   ],
   "source": [
    "yield_df.shape"
   ]
  },
  {
   "cell_type": "markdown",
   "id": "1f205d57",
   "metadata": {},
   "source": [
    "### Pesticides Data: df_pest"
   ]
  },
  {
   "cell_type": "code",
   "execution_count": 24,
   "id": "832d5192",
   "metadata": {},
   "outputs": [
    {
     "data": {
      "text/html": [
       "<div>\n",
       "<style scoped>\n",
       "    .dataframe tbody tr th:only-of-type {\n",
       "        vertical-align: middle;\n",
       "    }\n",
       "\n",
       "    .dataframe tbody tr th {\n",
       "        vertical-align: top;\n",
       "    }\n",
       "\n",
       "    .dataframe thead th {\n",
       "        text-align: right;\n",
       "    }\n",
       "</style>\n",
       "<table border=\"1\" class=\"dataframe\">\n",
       "  <thead>\n",
       "    <tr style=\"text-align: right;\">\n",
       "      <th></th>\n",
       "      <th>Domain</th>\n",
       "      <th>Area</th>\n",
       "      <th>Element</th>\n",
       "      <th>Item</th>\n",
       "      <th>Year</th>\n",
       "      <th>Unit</th>\n",
       "      <th>Value</th>\n",
       "    </tr>\n",
       "  </thead>\n",
       "  <tbody>\n",
       "    <tr>\n",
       "      <th>0</th>\n",
       "      <td>Pesticides Use</td>\n",
       "      <td>Albania</td>\n",
       "      <td>Use</td>\n",
       "      <td>Pesticides (total)</td>\n",
       "      <td>1990</td>\n",
       "      <td>tonnes of active ingredients</td>\n",
       "      <td>121.0</td>\n",
       "    </tr>\n",
       "    <tr>\n",
       "      <th>1</th>\n",
       "      <td>Pesticides Use</td>\n",
       "      <td>Albania</td>\n",
       "      <td>Use</td>\n",
       "      <td>Pesticides (total)</td>\n",
       "      <td>1991</td>\n",
       "      <td>tonnes of active ingredients</td>\n",
       "      <td>121.0</td>\n",
       "    </tr>\n",
       "    <tr>\n",
       "      <th>2</th>\n",
       "      <td>Pesticides Use</td>\n",
       "      <td>Albania</td>\n",
       "      <td>Use</td>\n",
       "      <td>Pesticides (total)</td>\n",
       "      <td>1992</td>\n",
       "      <td>tonnes of active ingredients</td>\n",
       "      <td>121.0</td>\n",
       "    </tr>\n",
       "    <tr>\n",
       "      <th>3</th>\n",
       "      <td>Pesticides Use</td>\n",
       "      <td>Albania</td>\n",
       "      <td>Use</td>\n",
       "      <td>Pesticides (total)</td>\n",
       "      <td>1993</td>\n",
       "      <td>tonnes of active ingredients</td>\n",
       "      <td>121.0</td>\n",
       "    </tr>\n",
       "    <tr>\n",
       "      <th>4</th>\n",
       "      <td>Pesticides Use</td>\n",
       "      <td>Albania</td>\n",
       "      <td>Use</td>\n",
       "      <td>Pesticides (total)</td>\n",
       "      <td>1994</td>\n",
       "      <td>tonnes of active ingredients</td>\n",
       "      <td>201.0</td>\n",
       "    </tr>\n",
       "  </tbody>\n",
       "</table>\n",
       "</div>"
      ],
      "text/plain": [
       "           Domain     Area Element                Item  Year  \\\n",
       "0  Pesticides Use  Albania     Use  Pesticides (total)  1990   \n",
       "1  Pesticides Use  Albania     Use  Pesticides (total)  1991   \n",
       "2  Pesticides Use  Albania     Use  Pesticides (total)  1992   \n",
       "3  Pesticides Use  Albania     Use  Pesticides (total)  1993   \n",
       "4  Pesticides Use  Albania     Use  Pesticides (total)  1994   \n",
       "\n",
       "                           Unit  Value  \n",
       "0  tonnes of active ingredients  121.0  \n",
       "1  tonnes of active ingredients  121.0  \n",
       "2  tonnes of active ingredients  121.0  \n",
       "3  tonnes of active ingredients  121.0  \n",
       "4  tonnes of active ingredients  201.0  "
      ]
     },
     "execution_count": 24,
     "metadata": {},
     "output_type": "execute_result"
    }
   ],
   "source": [
    "# Pesticides Data:\n",
    "\n",
    "\n",
    "df_pest = pd.read_csv('pesticides.csv')\n",
    "df_pest.head()\n"
   ]
  },
  {
   "cell_type": "code",
   "execution_count": 25,
   "id": "9b74f427",
   "metadata": {},
   "outputs": [],
   "source": [
    "df_pest = df_pest.drop(['Domain', 'Item', 'Element', 'Unit'], axis = 1)"
   ]
  },
  {
   "cell_type": "code",
   "execution_count": 26,
   "id": "9cc5825f",
   "metadata": {},
   "outputs": [],
   "source": [
    "df_pest = df_pest.rename(columns={\"Value\": 'Pesticides Value'}, index = str)"
   ]
  },
  {
   "cell_type": "code",
   "execution_count": 27,
   "id": "9c3af009",
   "metadata": {},
   "outputs": [
    {
     "data": {
      "text/html": [
       "<div>\n",
       "<style scoped>\n",
       "    .dataframe tbody tr th:only-of-type {\n",
       "        vertical-align: middle;\n",
       "    }\n",
       "\n",
       "    .dataframe tbody tr th {\n",
       "        vertical-align: top;\n",
       "    }\n",
       "\n",
       "    .dataframe thead th {\n",
       "        text-align: right;\n",
       "    }\n",
       "</style>\n",
       "<table border=\"1\" class=\"dataframe\">\n",
       "  <thead>\n",
       "    <tr style=\"text-align: right;\">\n",
       "      <th></th>\n",
       "      <th>Area</th>\n",
       "      <th>Year</th>\n",
       "      <th>Pesticides Value</th>\n",
       "    </tr>\n",
       "  </thead>\n",
       "  <tbody>\n",
       "    <tr>\n",
       "      <th>0</th>\n",
       "      <td>Albania</td>\n",
       "      <td>1990</td>\n",
       "      <td>121.00</td>\n",
       "    </tr>\n",
       "    <tr>\n",
       "      <th>1</th>\n",
       "      <td>Albania</td>\n",
       "      <td>1991</td>\n",
       "      <td>121.00</td>\n",
       "    </tr>\n",
       "    <tr>\n",
       "      <th>2</th>\n",
       "      <td>Albania</td>\n",
       "      <td>1992</td>\n",
       "      <td>121.00</td>\n",
       "    </tr>\n",
       "    <tr>\n",
       "      <th>3</th>\n",
       "      <td>Albania</td>\n",
       "      <td>1993</td>\n",
       "      <td>121.00</td>\n",
       "    </tr>\n",
       "    <tr>\n",
       "      <th>4</th>\n",
       "      <td>Albania</td>\n",
       "      <td>1994</td>\n",
       "      <td>201.00</td>\n",
       "    </tr>\n",
       "    <tr>\n",
       "      <th>5</th>\n",
       "      <td>Albania</td>\n",
       "      <td>1995</td>\n",
       "      <td>251.00</td>\n",
       "    </tr>\n",
       "    <tr>\n",
       "      <th>6</th>\n",
       "      <td>Albania</td>\n",
       "      <td>1996</td>\n",
       "      <td>313.96</td>\n",
       "    </tr>\n",
       "    <tr>\n",
       "      <th>7</th>\n",
       "      <td>Albania</td>\n",
       "      <td>1997</td>\n",
       "      <td>376.93</td>\n",
       "    </tr>\n",
       "    <tr>\n",
       "      <th>8</th>\n",
       "      <td>Albania</td>\n",
       "      <td>1998</td>\n",
       "      <td>439.89</td>\n",
       "    </tr>\n",
       "    <tr>\n",
       "      <th>9</th>\n",
       "      <td>Albania</td>\n",
       "      <td>1999</td>\n",
       "      <td>502.86</td>\n",
       "    </tr>\n",
       "  </tbody>\n",
       "</table>\n",
       "</div>"
      ],
      "text/plain": [
       "      Area  Year  Pesticides Value\n",
       "0  Albania  1990            121.00\n",
       "1  Albania  1991            121.00\n",
       "2  Albania  1992            121.00\n",
       "3  Albania  1993            121.00\n",
       "4  Albania  1994            201.00\n",
       "5  Albania  1995            251.00\n",
       "6  Albania  1996            313.96\n",
       "7  Albania  1997            376.93\n",
       "8  Albania  1998            439.89\n",
       "9  Albania  1999            502.86"
      ]
     },
     "execution_count": 27,
     "metadata": {},
     "output_type": "execute_result"
    }
   ],
   "source": [
    "df_pest.head(10)"
   ]
  },
  {
   "cell_type": "code",
   "execution_count": 28,
   "id": "41112319",
   "metadata": {},
   "outputs": [
    {
     "data": {
      "text/plain": [
       "Area                False\n",
       "Year                False\n",
       "Pesticides Value    False\n",
       "dtype: bool"
      ]
     },
     "execution_count": 28,
     "metadata": {},
     "output_type": "execute_result"
    }
   ],
   "source": [
    "df_pest.isnull().any()"
   ]
  },
  {
   "cell_type": "code",
   "execution_count": 29,
   "id": "9726a829",
   "metadata": {},
   "outputs": [],
   "source": [
    "# merging df_pest and yield_df\n",
    "\n",
    "\n",
    "yield_df = pd.merge(yield_df, df_pest, on=['Year','Area'])"
   ]
  },
  {
   "cell_type": "code",
   "execution_count": 30,
   "id": "1b3ad50f",
   "metadata": {},
   "outputs": [
    {
     "data": {
      "text/html": [
       "<div>\n",
       "<style scoped>\n",
       "    .dataframe tbody tr th:only-of-type {\n",
       "        vertical-align: middle;\n",
       "    }\n",
       "\n",
       "    .dataframe tbody tr th {\n",
       "        vertical-align: top;\n",
       "    }\n",
       "\n",
       "    .dataframe thead th {\n",
       "        text-align: right;\n",
       "    }\n",
       "</style>\n",
       "<table border=\"1\" class=\"dataframe\">\n",
       "  <thead>\n",
       "    <tr style=\"text-align: right;\">\n",
       "      <th></th>\n",
       "      <th>Area</th>\n",
       "      <th>Item</th>\n",
       "      <th>Year</th>\n",
       "      <th>Value</th>\n",
       "      <th>average_rain_fall_mm_per_year</th>\n",
       "      <th>Pesticides Value</th>\n",
       "    </tr>\n",
       "  </thead>\n",
       "  <tbody>\n",
       "    <tr>\n",
       "      <th>0</th>\n",
       "      <td>Albania</td>\n",
       "      <td>Maize</td>\n",
       "      <td>1990</td>\n",
       "      <td>36613</td>\n",
       "      <td>1485.0</td>\n",
       "      <td>121.0</td>\n",
       "    </tr>\n",
       "    <tr>\n",
       "      <th>1</th>\n",
       "      <td>Albania</td>\n",
       "      <td>Potatoes</td>\n",
       "      <td>1990</td>\n",
       "      <td>66667</td>\n",
       "      <td>1485.0</td>\n",
       "      <td>121.0</td>\n",
       "    </tr>\n",
       "    <tr>\n",
       "      <th>2</th>\n",
       "      <td>Albania</td>\n",
       "      <td>Rice, paddy</td>\n",
       "      <td>1990</td>\n",
       "      <td>23333</td>\n",
       "      <td>1485.0</td>\n",
       "      <td>121.0</td>\n",
       "    </tr>\n",
       "    <tr>\n",
       "      <th>3</th>\n",
       "      <td>Albania</td>\n",
       "      <td>Sorghum</td>\n",
       "      <td>1990</td>\n",
       "      <td>12500</td>\n",
       "      <td>1485.0</td>\n",
       "      <td>121.0</td>\n",
       "    </tr>\n",
       "    <tr>\n",
       "      <th>4</th>\n",
       "      <td>Albania</td>\n",
       "      <td>Soybeans</td>\n",
       "      <td>1990</td>\n",
       "      <td>7000</td>\n",
       "      <td>1485.0</td>\n",
       "      <td>121.0</td>\n",
       "    </tr>\n",
       "  </tbody>\n",
       "</table>\n",
       "</div>"
      ],
      "text/plain": [
       "      Area         Item  Year  Value  average_rain_fall_mm_per_year  \\\n",
       "0  Albania        Maize  1990  36613                         1485.0   \n",
       "1  Albania     Potatoes  1990  66667                         1485.0   \n",
       "2  Albania  Rice, paddy  1990  23333                         1485.0   \n",
       "3  Albania      Sorghum  1990  12500                         1485.0   \n",
       "4  Albania     Soybeans  1990   7000                         1485.0   \n",
       "\n",
       "   Pesticides Value  \n",
       "0             121.0  \n",
       "1             121.0  \n",
       "2             121.0  \n",
       "3             121.0  \n",
       "4             121.0  "
      ]
     },
     "execution_count": 30,
     "metadata": {},
     "output_type": "execute_result"
    }
   ],
   "source": [
    "yield_df.head()"
   ]
  },
  {
   "cell_type": "code",
   "execution_count": 31,
   "id": "a7a1263a",
   "metadata": {},
   "outputs": [
    {
     "data": {
      "text/plain": [
       "Area                             False\n",
       "Item                             False\n",
       "Year                             False\n",
       "Value                            False\n",
       "average_rain_fall_mm_per_year    False\n",
       "Pesticides Value                 False\n",
       "dtype: bool"
      ]
     },
     "execution_count": 31,
     "metadata": {},
     "output_type": "execute_result"
    }
   ],
   "source": [
    "yield_df.isnull().any()"
   ]
  },
  {
   "cell_type": "code",
   "execution_count": 32,
   "id": "5d2a6cf4",
   "metadata": {},
   "outputs": [
    {
     "data": {
      "text/plain": [
       "(18949, 6)"
      ]
     },
     "execution_count": 32,
     "metadata": {},
     "output_type": "execute_result"
    }
   ],
   "source": [
    "yield_df.shape"
   ]
  },
  {
   "cell_type": "markdown",
   "id": "c4680fd1",
   "metadata": {},
   "source": [
    "### Average Tempratur: df_temp"
   ]
  },
  {
   "cell_type": "code",
   "execution_count": 33,
   "id": "fd3ee64f",
   "metadata": {},
   "outputs": [
    {
     "data": {
      "text/html": [
       "<div>\n",
       "<style scoped>\n",
       "    .dataframe tbody tr th:only-of-type {\n",
       "        vertical-align: middle;\n",
       "    }\n",
       "\n",
       "    .dataframe tbody tr th {\n",
       "        vertical-align: top;\n",
       "    }\n",
       "\n",
       "    .dataframe thead th {\n",
       "        text-align: right;\n",
       "    }\n",
       "</style>\n",
       "<table border=\"1\" class=\"dataframe\">\n",
       "  <thead>\n",
       "    <tr style=\"text-align: right;\">\n",
       "      <th></th>\n",
       "      <th>year</th>\n",
       "      <th>country</th>\n",
       "      <th>avg_temp</th>\n",
       "    </tr>\n",
       "  </thead>\n",
       "  <tbody>\n",
       "    <tr>\n",
       "      <th>0</th>\n",
       "      <td>1849</td>\n",
       "      <td>Côte D'Ivoire</td>\n",
       "      <td>25.58</td>\n",
       "    </tr>\n",
       "    <tr>\n",
       "      <th>1</th>\n",
       "      <td>1850</td>\n",
       "      <td>Côte D'Ivoire</td>\n",
       "      <td>25.52</td>\n",
       "    </tr>\n",
       "    <tr>\n",
       "      <th>2</th>\n",
       "      <td>1851</td>\n",
       "      <td>Côte D'Ivoire</td>\n",
       "      <td>25.67</td>\n",
       "    </tr>\n",
       "    <tr>\n",
       "      <th>3</th>\n",
       "      <td>1852</td>\n",
       "      <td>Côte D'Ivoire</td>\n",
       "      <td>NaN</td>\n",
       "    </tr>\n",
       "    <tr>\n",
       "      <th>4</th>\n",
       "      <td>1853</td>\n",
       "      <td>Côte D'Ivoire</td>\n",
       "      <td>NaN</td>\n",
       "    </tr>\n",
       "    <tr>\n",
       "      <th>5</th>\n",
       "      <td>1854</td>\n",
       "      <td>Côte D'Ivoire</td>\n",
       "      <td>NaN</td>\n",
       "    </tr>\n",
       "    <tr>\n",
       "      <th>6</th>\n",
       "      <td>1855</td>\n",
       "      <td>Côte D'Ivoire</td>\n",
       "      <td>NaN</td>\n",
       "    </tr>\n",
       "    <tr>\n",
       "      <th>7</th>\n",
       "      <td>1856</td>\n",
       "      <td>Côte D'Ivoire</td>\n",
       "      <td>26.28</td>\n",
       "    </tr>\n",
       "    <tr>\n",
       "      <th>8</th>\n",
       "      <td>1857</td>\n",
       "      <td>Côte D'Ivoire</td>\n",
       "      <td>25.17</td>\n",
       "    </tr>\n",
       "    <tr>\n",
       "      <th>9</th>\n",
       "      <td>1858</td>\n",
       "      <td>Côte D'Ivoire</td>\n",
       "      <td>25.49</td>\n",
       "    </tr>\n",
       "  </tbody>\n",
       "</table>\n",
       "</div>"
      ],
      "text/plain": [
       "   year        country  avg_temp\n",
       "0  1849  Côte D'Ivoire     25.58\n",
       "1  1850  Côte D'Ivoire     25.52\n",
       "2  1851  Côte D'Ivoire     25.67\n",
       "3  1852  Côte D'Ivoire       NaN\n",
       "4  1853  Côte D'Ivoire       NaN\n",
       "5  1854  Côte D'Ivoire       NaN\n",
       "6  1855  Côte D'Ivoire       NaN\n",
       "7  1856  Côte D'Ivoire     26.28\n",
       "8  1857  Côte D'Ivoire     25.17\n",
       "9  1858  Côte D'Ivoire     25.49"
      ]
     },
     "execution_count": 33,
     "metadata": {},
     "output_type": "execute_result"
    }
   ],
   "source": [
    "# Average Temprature:\n",
    "\n",
    "\n",
    "df_temp = pd.read_csv('temp.csv')\n",
    "df_temp.head(10)"
   ]
  },
  {
   "cell_type": "code",
   "execution_count": 34,
   "id": "c32873a2",
   "metadata": {},
   "outputs": [],
   "source": [
    "df_temp = df_temp.dropna()\n",
    "\n",
    "df_temp = df_temp.rename(columns={\"year\": 'Year', 'country': 'Area'}, index = str)"
   ]
  },
  {
   "cell_type": "code",
   "execution_count": 35,
   "id": "44c5913a",
   "metadata": {},
   "outputs": [
    {
     "data": {
      "text/html": [
       "<div>\n",
       "<style scoped>\n",
       "    .dataframe tbody tr th:only-of-type {\n",
       "        vertical-align: middle;\n",
       "    }\n",
       "\n",
       "    .dataframe tbody tr th {\n",
       "        vertical-align: top;\n",
       "    }\n",
       "\n",
       "    .dataframe thead th {\n",
       "        text-align: right;\n",
       "    }\n",
       "</style>\n",
       "<table border=\"1\" class=\"dataframe\">\n",
       "  <thead>\n",
       "    <tr style=\"text-align: right;\">\n",
       "      <th></th>\n",
       "      <th>Year</th>\n",
       "      <th>Area</th>\n",
       "      <th>avg_temp</th>\n",
       "    </tr>\n",
       "  </thead>\n",
       "  <tbody>\n",
       "    <tr>\n",
       "      <th>0</th>\n",
       "      <td>1849</td>\n",
       "      <td>Côte D'Ivoire</td>\n",
       "      <td>25.58</td>\n",
       "    </tr>\n",
       "    <tr>\n",
       "      <th>1</th>\n",
       "      <td>1850</td>\n",
       "      <td>Côte D'Ivoire</td>\n",
       "      <td>25.52</td>\n",
       "    </tr>\n",
       "    <tr>\n",
       "      <th>2</th>\n",
       "      <td>1851</td>\n",
       "      <td>Côte D'Ivoire</td>\n",
       "      <td>25.67</td>\n",
       "    </tr>\n",
       "    <tr>\n",
       "      <th>7</th>\n",
       "      <td>1856</td>\n",
       "      <td>Côte D'Ivoire</td>\n",
       "      <td>26.28</td>\n",
       "    </tr>\n",
       "    <tr>\n",
       "      <th>8</th>\n",
       "      <td>1857</td>\n",
       "      <td>Côte D'Ivoire</td>\n",
       "      <td>25.17</td>\n",
       "    </tr>\n",
       "    <tr>\n",
       "      <th>9</th>\n",
       "      <td>1858</td>\n",
       "      <td>Côte D'Ivoire</td>\n",
       "      <td>25.49</td>\n",
       "    </tr>\n",
       "    <tr>\n",
       "      <th>10</th>\n",
       "      <td>1859</td>\n",
       "      <td>Côte D'Ivoire</td>\n",
       "      <td>25.92</td>\n",
       "    </tr>\n",
       "    <tr>\n",
       "      <th>11</th>\n",
       "      <td>1860</td>\n",
       "      <td>Côte D'Ivoire</td>\n",
       "      <td>25.46</td>\n",
       "    </tr>\n",
       "    <tr>\n",
       "      <th>12</th>\n",
       "      <td>1861</td>\n",
       "      <td>Côte D'Ivoire</td>\n",
       "      <td>25.67</td>\n",
       "    </tr>\n",
       "    <tr>\n",
       "      <th>13</th>\n",
       "      <td>1862</td>\n",
       "      <td>Côte D'Ivoire</td>\n",
       "      <td>25.17</td>\n",
       "    </tr>\n",
       "  </tbody>\n",
       "</table>\n",
       "</div>"
      ],
      "text/plain": [
       "    Year           Area  avg_temp\n",
       "0   1849  Côte D'Ivoire     25.58\n",
       "1   1850  Côte D'Ivoire     25.52\n",
       "2   1851  Côte D'Ivoire     25.67\n",
       "7   1856  Côte D'Ivoire     26.28\n",
       "8   1857  Côte D'Ivoire     25.17\n",
       "9   1858  Côte D'Ivoire     25.49\n",
       "10  1859  Côte D'Ivoire     25.92\n",
       "11  1860  Côte D'Ivoire     25.46\n",
       "12  1861  Côte D'Ivoire     25.67\n",
       "13  1862  Côte D'Ivoire     25.17"
      ]
     },
     "execution_count": 35,
     "metadata": {},
     "output_type": "execute_result"
    }
   ],
   "source": [
    "df_temp.head(10)"
   ]
  },
  {
   "cell_type": "code",
   "execution_count": 36,
   "id": "47955382",
   "metadata": {},
   "outputs": [
    {
     "data": {
      "text/plain": [
       "Year          int64\n",
       "Area         object\n",
       "avg_temp    float64\n",
       "dtype: object"
      ]
     },
     "execution_count": 36,
     "metadata": {},
     "output_type": "execute_result"
    }
   ],
   "source": [
    "df_temp.dtypes"
   ]
  },
  {
   "cell_type": "code",
   "execution_count": 37,
   "id": "d6381c25",
   "metadata": {},
   "outputs": [],
   "source": [
    "# merging df_temp and yield_df\n",
    "\n",
    "yield_df = pd.merge(yield_df, df_temp, on=['Year','Area'])"
   ]
  },
  {
   "cell_type": "code",
   "execution_count": 38,
   "id": "005ba5fb",
   "metadata": {},
   "outputs": [
    {
     "data": {
      "text/html": [
       "<div>\n",
       "<style scoped>\n",
       "    .dataframe tbody tr th:only-of-type {\n",
       "        vertical-align: middle;\n",
       "    }\n",
       "\n",
       "    .dataframe tbody tr th {\n",
       "        vertical-align: top;\n",
       "    }\n",
       "\n",
       "    .dataframe thead th {\n",
       "        text-align: right;\n",
       "    }\n",
       "</style>\n",
       "<table border=\"1\" class=\"dataframe\">\n",
       "  <thead>\n",
       "    <tr style=\"text-align: right;\">\n",
       "      <th></th>\n",
       "      <th>Area</th>\n",
       "      <th>Item</th>\n",
       "      <th>Year</th>\n",
       "      <th>Value</th>\n",
       "      <th>average_rain_fall_mm_per_year</th>\n",
       "      <th>Pesticides Value</th>\n",
       "      <th>avg_temp</th>\n",
       "    </tr>\n",
       "  </thead>\n",
       "  <tbody>\n",
       "    <tr>\n",
       "      <th>0</th>\n",
       "      <td>Albania</td>\n",
       "      <td>Maize</td>\n",
       "      <td>1990</td>\n",
       "      <td>36613</td>\n",
       "      <td>1485.0</td>\n",
       "      <td>121.0</td>\n",
       "      <td>16.37</td>\n",
       "    </tr>\n",
       "    <tr>\n",
       "      <th>1</th>\n",
       "      <td>Albania</td>\n",
       "      <td>Potatoes</td>\n",
       "      <td>1990</td>\n",
       "      <td>66667</td>\n",
       "      <td>1485.0</td>\n",
       "      <td>121.0</td>\n",
       "      <td>16.37</td>\n",
       "    </tr>\n",
       "    <tr>\n",
       "      <th>2</th>\n",
       "      <td>Albania</td>\n",
       "      <td>Rice, paddy</td>\n",
       "      <td>1990</td>\n",
       "      <td>23333</td>\n",
       "      <td>1485.0</td>\n",
       "      <td>121.0</td>\n",
       "      <td>16.37</td>\n",
       "    </tr>\n",
       "    <tr>\n",
       "      <th>3</th>\n",
       "      <td>Albania</td>\n",
       "      <td>Sorghum</td>\n",
       "      <td>1990</td>\n",
       "      <td>12500</td>\n",
       "      <td>1485.0</td>\n",
       "      <td>121.0</td>\n",
       "      <td>16.37</td>\n",
       "    </tr>\n",
       "    <tr>\n",
       "      <th>4</th>\n",
       "      <td>Albania</td>\n",
       "      <td>Soybeans</td>\n",
       "      <td>1990</td>\n",
       "      <td>7000</td>\n",
       "      <td>1485.0</td>\n",
       "      <td>121.0</td>\n",
       "      <td>16.37</td>\n",
       "    </tr>\n",
       "  </tbody>\n",
       "</table>\n",
       "</div>"
      ],
      "text/plain": [
       "      Area         Item  Year  Value  average_rain_fall_mm_per_year  \\\n",
       "0  Albania        Maize  1990  36613                         1485.0   \n",
       "1  Albania     Potatoes  1990  66667                         1485.0   \n",
       "2  Albania  Rice, paddy  1990  23333                         1485.0   \n",
       "3  Albania      Sorghum  1990  12500                         1485.0   \n",
       "4  Albania     Soybeans  1990   7000                         1485.0   \n",
       "\n",
       "   Pesticides Value  avg_temp  \n",
       "0             121.0     16.37  \n",
       "1             121.0     16.37  \n",
       "2             121.0     16.37  \n",
       "3             121.0     16.37  \n",
       "4             121.0     16.37  "
      ]
     },
     "execution_count": 38,
     "metadata": {},
     "output_type": "execute_result"
    }
   ],
   "source": [
    "yield_df.head()"
   ]
  },
  {
   "cell_type": "code",
   "execution_count": 39,
   "id": "1c207ed8",
   "metadata": {},
   "outputs": [
    {
     "data": {
      "text/html": [
       "<div>\n",
       "<style scoped>\n",
       "    .dataframe tbody tr th:only-of-type {\n",
       "        vertical-align: middle;\n",
       "    }\n",
       "\n",
       "    .dataframe tbody tr th {\n",
       "        vertical-align: top;\n",
       "    }\n",
       "\n",
       "    .dataframe thead th {\n",
       "        text-align: right;\n",
       "    }\n",
       "</style>\n",
       "<table border=\"1\" class=\"dataframe\">\n",
       "  <thead>\n",
       "    <tr style=\"text-align: right;\">\n",
       "      <th></th>\n",
       "      <th>Year</th>\n",
       "      <th>Area</th>\n",
       "      <th>avg_temp</th>\n",
       "    </tr>\n",
       "  </thead>\n",
       "  <tbody>\n",
       "    <tr>\n",
       "      <th>0</th>\n",
       "      <td>1849</td>\n",
       "      <td>Côte D'Ivoire</td>\n",
       "      <td>25.58</td>\n",
       "    </tr>\n",
       "    <tr>\n",
       "      <th>1</th>\n",
       "      <td>1850</td>\n",
       "      <td>Côte D'Ivoire</td>\n",
       "      <td>25.52</td>\n",
       "    </tr>\n",
       "    <tr>\n",
       "      <th>2</th>\n",
       "      <td>1851</td>\n",
       "      <td>Côte D'Ivoire</td>\n",
       "      <td>25.67</td>\n",
       "    </tr>\n",
       "    <tr>\n",
       "      <th>7</th>\n",
       "      <td>1856</td>\n",
       "      <td>Côte D'Ivoire</td>\n",
       "      <td>26.28</td>\n",
       "    </tr>\n",
       "    <tr>\n",
       "      <th>8</th>\n",
       "      <td>1857</td>\n",
       "      <td>Côte D'Ivoire</td>\n",
       "      <td>25.17</td>\n",
       "    </tr>\n",
       "  </tbody>\n",
       "</table>\n",
       "</div>"
      ],
      "text/plain": [
       "   Year           Area  avg_temp\n",
       "0  1849  Côte D'Ivoire     25.58\n",
       "1  1850  Côte D'Ivoire     25.52\n",
       "2  1851  Côte D'Ivoire     25.67\n",
       "7  1856  Côte D'Ivoire     26.28\n",
       "8  1857  Côte D'Ivoire     25.17"
      ]
     },
     "execution_count": 39,
     "metadata": {},
     "output_type": "execute_result"
    }
   ],
   "source": [
    "df_temp.head()"
   ]
  },
  {
   "cell_type": "code",
   "execution_count": 40,
   "id": "1636dd3c",
   "metadata": {},
   "outputs": [
    {
     "data": {
      "text/html": [
       "<div>\n",
       "<style scoped>\n",
       "    .dataframe tbody tr th:only-of-type {\n",
       "        vertical-align: middle;\n",
       "    }\n",
       "\n",
       "    .dataframe tbody tr th {\n",
       "        vertical-align: top;\n",
       "    }\n",
       "\n",
       "    .dataframe thead th {\n",
       "        text-align: right;\n",
       "    }\n",
       "</style>\n",
       "<table border=\"1\" class=\"dataframe\">\n",
       "  <thead>\n",
       "    <tr style=\"text-align: right;\">\n",
       "      <th></th>\n",
       "      <th>Area</th>\n",
       "      <th>Year</th>\n",
       "      <th>Pesticides Value</th>\n",
       "    </tr>\n",
       "  </thead>\n",
       "  <tbody>\n",
       "    <tr>\n",
       "      <th>0</th>\n",
       "      <td>Albania</td>\n",
       "      <td>1990</td>\n",
       "      <td>121.0</td>\n",
       "    </tr>\n",
       "    <tr>\n",
       "      <th>1</th>\n",
       "      <td>Albania</td>\n",
       "      <td>1991</td>\n",
       "      <td>121.0</td>\n",
       "    </tr>\n",
       "    <tr>\n",
       "      <th>2</th>\n",
       "      <td>Albania</td>\n",
       "      <td>1992</td>\n",
       "      <td>121.0</td>\n",
       "    </tr>\n",
       "    <tr>\n",
       "      <th>3</th>\n",
       "      <td>Albania</td>\n",
       "      <td>1993</td>\n",
       "      <td>121.0</td>\n",
       "    </tr>\n",
       "    <tr>\n",
       "      <th>4</th>\n",
       "      <td>Albania</td>\n",
       "      <td>1994</td>\n",
       "      <td>201.0</td>\n",
       "    </tr>\n",
       "  </tbody>\n",
       "</table>\n",
       "</div>"
      ],
      "text/plain": [
       "      Area  Year  Pesticides Value\n",
       "0  Albania  1990             121.0\n",
       "1  Albania  1991             121.0\n",
       "2  Albania  1992             121.0\n",
       "3  Albania  1993             121.0\n",
       "4  Albania  1994             201.0"
      ]
     },
     "execution_count": 40,
     "metadata": {},
     "output_type": "execute_result"
    }
   ],
   "source": [
    "df_pest.head()"
   ]
  },
  {
   "cell_type": "code",
   "execution_count": 41,
   "id": "68449ec0",
   "metadata": {},
   "outputs": [
    {
     "data": {
      "text/html": [
       "<div>\n",
       "<style scoped>\n",
       "    .dataframe tbody tr th:only-of-type {\n",
       "        vertical-align: middle;\n",
       "    }\n",
       "\n",
       "    .dataframe tbody tr th {\n",
       "        vertical-align: top;\n",
       "    }\n",
       "\n",
       "    .dataframe thead th {\n",
       "        text-align: right;\n",
       "    }\n",
       "</style>\n",
       "<table border=\"1\" class=\"dataframe\">\n",
       "  <thead>\n",
       "    <tr style=\"text-align: right;\">\n",
       "      <th></th>\n",
       "      <th>Area</th>\n",
       "      <th>Year</th>\n",
       "      <th>average_rain_fall_mm_per_year</th>\n",
       "    </tr>\n",
       "  </thead>\n",
       "  <tbody>\n",
       "    <tr>\n",
       "      <th>0</th>\n",
       "      <td>Afghanistan</td>\n",
       "      <td>1985</td>\n",
       "      <td>327.0</td>\n",
       "    </tr>\n",
       "    <tr>\n",
       "      <th>1</th>\n",
       "      <td>Afghanistan</td>\n",
       "      <td>1986</td>\n",
       "      <td>327.0</td>\n",
       "    </tr>\n",
       "    <tr>\n",
       "      <th>2</th>\n",
       "      <td>Afghanistan</td>\n",
       "      <td>1987</td>\n",
       "      <td>327.0</td>\n",
       "    </tr>\n",
       "    <tr>\n",
       "      <th>3</th>\n",
       "      <td>Afghanistan</td>\n",
       "      <td>1989</td>\n",
       "      <td>327.0</td>\n",
       "    </tr>\n",
       "    <tr>\n",
       "      <th>4</th>\n",
       "      <td>Afghanistan</td>\n",
       "      <td>1990</td>\n",
       "      <td>327.0</td>\n",
       "    </tr>\n",
       "  </tbody>\n",
       "</table>\n",
       "</div>"
      ],
      "text/plain": [
       "          Area  Year  average_rain_fall_mm_per_year\n",
       "0  Afghanistan  1985                          327.0\n",
       "1  Afghanistan  1986                          327.0\n",
       "2  Afghanistan  1987                          327.0\n",
       "3  Afghanistan  1989                          327.0\n",
       "4  Afghanistan  1990                          327.0"
      ]
     },
     "execution_count": 41,
     "metadata": {},
     "output_type": "execute_result"
    }
   ],
   "source": [
    "df_rain.head()"
   ]
  },
  {
   "cell_type": "code",
   "execution_count": 42,
   "id": "f8e327d0",
   "metadata": {},
   "outputs": [
    {
     "data": {
      "text/html": [
       "<div>\n",
       "<style scoped>\n",
       "    .dataframe tbody tr th:only-of-type {\n",
       "        vertical-align: middle;\n",
       "    }\n",
       "\n",
       "    .dataframe tbody tr th {\n",
       "        vertical-align: top;\n",
       "    }\n",
       "\n",
       "    .dataframe thead th {\n",
       "        text-align: right;\n",
       "    }\n",
       "</style>\n",
       "<table border=\"1\" class=\"dataframe\">\n",
       "  <thead>\n",
       "    <tr style=\"text-align: right;\">\n",
       "      <th></th>\n",
       "      <th>Area</th>\n",
       "      <th>Item</th>\n",
       "      <th>Year</th>\n",
       "      <th>Value</th>\n",
       "    </tr>\n",
       "  </thead>\n",
       "  <tbody>\n",
       "    <tr>\n",
       "      <th>0</th>\n",
       "      <td>Afghanistan</td>\n",
       "      <td>Maize</td>\n",
       "      <td>1961</td>\n",
       "      <td>14000</td>\n",
       "    </tr>\n",
       "    <tr>\n",
       "      <th>1</th>\n",
       "      <td>Afghanistan</td>\n",
       "      <td>Maize</td>\n",
       "      <td>1962</td>\n",
       "      <td>14000</td>\n",
       "    </tr>\n",
       "    <tr>\n",
       "      <th>2</th>\n",
       "      <td>Afghanistan</td>\n",
       "      <td>Maize</td>\n",
       "      <td>1963</td>\n",
       "      <td>14260</td>\n",
       "    </tr>\n",
       "    <tr>\n",
       "      <th>3</th>\n",
       "      <td>Afghanistan</td>\n",
       "      <td>Maize</td>\n",
       "      <td>1964</td>\n",
       "      <td>14257</td>\n",
       "    </tr>\n",
       "    <tr>\n",
       "      <th>4</th>\n",
       "      <td>Afghanistan</td>\n",
       "      <td>Maize</td>\n",
       "      <td>1965</td>\n",
       "      <td>14400</td>\n",
       "    </tr>\n",
       "  </tbody>\n",
       "</table>\n",
       "</div>"
      ],
      "text/plain": [
       "          Area   Item  Year  Value\n",
       "0  Afghanistan  Maize  1961  14000\n",
       "1  Afghanistan  Maize  1962  14000\n",
       "2  Afghanistan  Maize  1963  14260\n",
       "3  Afghanistan  Maize  1964  14257\n",
       "4  Afghanistan  Maize  1965  14400"
      ]
     },
     "execution_count": 42,
     "metadata": {},
     "output_type": "execute_result"
    }
   ],
   "source": [
    "df_yield.head()"
   ]
  },
  {
   "cell_type": "code",
   "execution_count": 43,
   "id": "54be171f",
   "metadata": {},
   "outputs": [
    {
     "data": {
      "text/plain": [
       "(28242, 7)"
      ]
     },
     "execution_count": 43,
     "metadata": {},
     "output_type": "execute_result"
    }
   ],
   "source": [
    "yield_df.shape"
   ]
  },
  {
   "cell_type": "code",
   "execution_count": 44,
   "id": "d74ff3a9",
   "metadata": {},
   "outputs": [
    {
     "data": {
      "text/plain": [
       "Area                             False\n",
       "Item                             False\n",
       "Year                             False\n",
       "Value                            False\n",
       "average_rain_fall_mm_per_year    False\n",
       "Pesticides Value                 False\n",
       "avg_temp                         False\n",
       "dtype: bool"
      ]
     },
     "execution_count": 44,
     "metadata": {},
     "output_type": "execute_result"
    }
   ],
   "source": [
    "yield_df.isnull().any()"
   ]
  },
  {
   "cell_type": "code",
   "execution_count": 45,
   "id": "83a38403",
   "metadata": {},
   "outputs": [],
   "source": [
    "# yield_df.loc[yield_df['Area']== 'Afghanistan']"
   ]
  },
  {
   "cell_type": "code",
   "execution_count": 46,
   "id": "6fb52497",
   "metadata": {},
   "outputs": [
    {
     "data": {
      "image/png": "[encoded data removed]",
      "text/plain": [
       "<Figure size 648x504 with 2 Axes>"
      ]
     },
     "metadata": {
      "needs_background": "light"
     },
     "output_type": "display_data"
    }
   ],
   "source": [
    "# Reference: https://www.kaggle.com/code/brightezeoha/loan-prediction-ml-project\n",
    "\n",
    "# Let's plot correlation overview of the variables.\n",
    "\n",
    "fig, ax = plt.subplots(figsize=(9, 7))\n",
    "correlations = yield_df.corr()\n",
    "  \n",
    "# plotting correlation heatmap\n",
    "dataplot = sns.heatmap(correlations, cmap=\"YlGnBu\", annot=True)\n",
    "  \n",
    "# displaying heatmap\n",
    "plt.show()"
   ]
  },
  {
   "cell_type": "code",
   "execution_count": 47,
   "id": "8b1c5f3e",
   "metadata": {},
   "outputs": [],
   "source": [
    "# there is not a correlation between featurs(max = 0.31)"
   ]
  },
  {
   "cell_type": "code",
   "execution_count": 48,
   "id": "6ecdc030",
   "metadata": {},
   "outputs": [
    {
     "data": {
      "text/plain": [
       "Index(['Area', 'Item', 'Year', 'Value', 'average_rain_fall_mm_per_year',\n",
       "       'Pesticides Value', 'avg_temp'],\n",
       "      dtype='object')"
      ]
     },
     "execution_count": 48,
     "metadata": {},
     "output_type": "execute_result"
    }
   ],
   "source": [
    "yield_df.columns"
   ]
  },
  {
   "cell_type": "code",
   "execution_count": 49,
   "id": "66a2dd6c",
   "metadata": {},
   "outputs": [
    {
     "data": {
      "image/png": "[encoded data removed]",
      "text/plain": [
       "<Figure size 432x288 with 1 Axes>"
      ]
     },
     "metadata": {},
     "output_type": "display_data"
    }
   ],
   "source": [
    "yield_df['Area'].value_counts()[:10].plot(kind='pie')\n",
    "plt.show()"
   ]
  },
  {
   "cell_type": "code",
   "execution_count": 50,
   "id": "3ad666c0",
   "metadata": {},
   "outputs": [
    {
     "data": {
      "image/png": "[encoded data removed]",
      "text/plain": [
       "<Figure size 432x288 with 1 Axes>"
      ]
     },
     "metadata": {},
     "output_type": "display_data"
    }
   ],
   "source": [
    "yield_df['Item'].value_counts()[:10].plot(kind='pie')\n",
    "plt.show()"
   ]
  },
  {
   "cell_type": "code",
   "execution_count": 51,
   "id": "fc0b05c7",
   "metadata": {},
   "outputs": [],
   "source": [
    "# Pesticides Value, average_rain_fall, avg_temp, item are skewed."
   ]
  },
  {
   "cell_type": "code",
   "execution_count": 52,
   "id": "34c53518",
   "metadata": {},
   "outputs": [
    {
     "name": "stdout",
     "output_type": "stream",
     "text": [
      "{'Albania': 0, 'Algeria': 1, 'Angola': 2, 'Argentina': 3, 'Armenia': 4, 'Australia': 5, 'Austria': 6, 'Azerbaijan': 7, 'Bahamas': 8, 'Bahrain': 9, 'Bangladesh': 10, 'Belarus': 11, 'Belgium': 12, 'Botswana': 13, 'Brazil': 14, 'Bulgaria': 15, 'Burkina Faso': 16, 'Burundi': 17, 'Cameroon': 18, 'Canada': 19, 'Central African Republic': 20, 'Chile': 21, 'Colombia': 22, 'Croatia': 23, 'Denmark': 24, 'Dominican Republic': 25, 'Ecuador': 26, 'Egypt': 27, 'El Salvador': 28, 'Eritrea': 29, 'Estonia': 30, 'Finland': 31, 'France': 32, 'Germany': 33, 'Ghana': 34, 'Greece': 35, 'Guatemala': 36, 'Guinea': 37, 'Guyana': 38, 'Haiti': 39, 'Honduras': 40, 'Hungary': 41, 'India': 42, 'Indonesia': 43, 'Iraq': 44, 'Ireland': 45, 'Italy': 46, 'Jamaica': 47, 'Japan': 48, 'Kazakhstan': 49, 'Kenya': 50, 'Latvia': 51, 'Lebanon': 52, 'Lesotho': 53, 'Libya': 54, 'Lithuania': 55, 'Madagascar': 56, 'Malawi': 57, 'Malaysia': 58, 'Mali': 59, 'Mauritania': 60, 'Mauritius': 61, 'Mexico': 62, 'Montenegro': 63, 'Morocco': 64, 'Mozambique': 65, 'Namibia': 66, 'Nepal': 67, 'Netherlands': 68, 'New Zealand': 69, 'Nicaragua': 70, 'Niger': 71, 'Norway': 72, 'Pakistan': 73, 'Papua New Guinea': 74, 'Peru': 75, 'Poland': 76, 'Portugal': 77, 'Qatar': 78, 'Romania': 79, 'Rwanda': 80, 'Saudi Arabia': 81, 'Senegal': 82, 'Slovenia': 83, 'South Africa': 84, 'Spain': 85, 'Sri Lanka': 86, 'Sudan': 87, 'Suriname': 88, 'Sweden': 89, 'Switzerland': 90, 'Tajikistan': 91, 'Thailand': 92, 'Tunisia': 93, 'Turkey': 94, 'Uganda': 95, 'Ukraine': 96, 'United Kingdom': 97, 'Uruguay': 98, 'Zambia': 99, 'Zimbabwe': 100}\n"
     ]
    }
   ],
   "source": [
    "# Refrence: https://stackoverflow.com/questions/42196589/any-way-to-get-mappings-of-a-label-encoder-in-python-pandas\n",
    "\n",
    "# get mappings of a label encoder \n",
    "\n",
    "from sklearn import preprocessing\n",
    "le = preprocessing.LabelEncoder()\n",
    "le.fit(yield_df['Area'])\n",
    "le_Area_mapping = dict(zip(le.classes_, le.transform(le.classes_)))\n",
    "print(le_Area_mapping)"
   ]
  },
  {
   "cell_type": "code",
   "execution_count": 53,
   "id": "efcd9510",
   "metadata": {},
   "outputs": [
    {
     "name": "stdout",
     "output_type": "stream",
     "text": [
      "{'Cassava': 0, 'Maize': 1, 'Plantains and others': 2, 'Potatoes': 3, 'Rice, paddy': 4, 'Sorghum': 5, 'Soybeans': 6, 'Sweet potatoes': 7, 'Wheat': 8, 'Yams': 9}\n"
     ]
    }
   ],
   "source": [
    "le.fit(yield_df['Item'])\n",
    "le_Item_mapping = dict(zip(le.classes_, le.transform(le.classes_)))\n",
    "print(le_Item_mapping)"
   ]
  },
  {
   "cell_type": "code",
   "execution_count": 54,
   "id": "0f1b6e38",
   "metadata": {},
   "outputs": [],
   "source": [
    "from sklearn.preprocessing import LabelEncoder\n",
    "\n",
    "labels = LabelEncoder()\n",
    "\n",
    "for col in ['Area', 'Item']:\n",
    "    yield_df[col] = labels.fit_transform(yield_df[col])"
   ]
  },
  {
   "cell_type": "code",
   "execution_count": 55,
   "id": "fdaa3a6c",
   "metadata": {},
   "outputs": [
    {
     "data": {
      "text/html": [
       "<div>\n",
       "<style scoped>\n",
       "    .dataframe tbody tr th:only-of-type {\n",
       "        vertical-align: middle;\n",
       "    }\n",
       "\n",
       "    .dataframe tbody tr th {\n",
       "        vertical-align: top;\n",
       "    }\n",
       "\n",
       "    .dataframe thead th {\n",
       "        text-align: right;\n",
       "    }\n",
       "</style>\n",
       "<table border=\"1\" class=\"dataframe\">\n",
       "  <thead>\n",
       "    <tr style=\"text-align: right;\">\n",
       "      <th></th>\n",
       "      <th>Area</th>\n",
       "      <th>Item</th>\n",
       "      <th>Year</th>\n",
       "      <th>Value</th>\n",
       "      <th>average_rain_fall_mm_per_year</th>\n",
       "      <th>Pesticides Value</th>\n",
       "      <th>avg_temp</th>\n",
       "    </tr>\n",
       "  </thead>\n",
       "  <tbody>\n",
       "    <tr>\n",
       "      <th>0</th>\n",
       "      <td>0</td>\n",
       "      <td>1</td>\n",
       "      <td>1990</td>\n",
       "      <td>36613</td>\n",
       "      <td>1485.0</td>\n",
       "      <td>121.0</td>\n",
       "      <td>16.37</td>\n",
       "    </tr>\n",
       "    <tr>\n",
       "      <th>1</th>\n",
       "      <td>0</td>\n",
       "      <td>3</td>\n",
       "      <td>1990</td>\n",
       "      <td>66667</td>\n",
       "      <td>1485.0</td>\n",
       "      <td>121.0</td>\n",
       "      <td>16.37</td>\n",
       "    </tr>\n",
       "    <tr>\n",
       "      <th>2</th>\n",
       "      <td>0</td>\n",
       "      <td>4</td>\n",
       "      <td>1990</td>\n",
       "      <td>23333</td>\n",
       "      <td>1485.0</td>\n",
       "      <td>121.0</td>\n",
       "      <td>16.37</td>\n",
       "    </tr>\n",
       "    <tr>\n",
       "      <th>3</th>\n",
       "      <td>0</td>\n",
       "      <td>5</td>\n",
       "      <td>1990</td>\n",
       "      <td>12500</td>\n",
       "      <td>1485.0</td>\n",
       "      <td>121.0</td>\n",
       "      <td>16.37</td>\n",
       "    </tr>\n",
       "    <tr>\n",
       "      <th>4</th>\n",
       "      <td>0</td>\n",
       "      <td>6</td>\n",
       "      <td>1990</td>\n",
       "      <td>7000</td>\n",
       "      <td>1485.0</td>\n",
       "      <td>121.0</td>\n",
       "      <td>16.37</td>\n",
       "    </tr>\n",
       "  </tbody>\n",
       "</table>\n",
       "</div>"
      ],
      "text/plain": [
       "   Area  Item  Year  Value  average_rain_fall_mm_per_year  Pesticides Value  \\\n",
       "0     0     1  1990  36613                         1485.0             121.0   \n",
       "1     0     3  1990  66667                         1485.0             121.0   \n",
       "2     0     4  1990  23333                         1485.0             121.0   \n",
       "3     0     5  1990  12500                         1485.0             121.0   \n",
       "4     0     6  1990   7000                         1485.0             121.0   \n",
       "\n",
       "   avg_temp  \n",
       "0     16.37  \n",
       "1     16.37  \n",
       "2     16.37  \n",
       "3     16.37  \n",
       "4     16.37  "
      ]
     },
     "execution_count": 55,
     "metadata": {},
     "output_type": "execute_result"
    }
   ],
   "source": [
    "yield_df.head()"
   ]
  },
  {
   "cell_type": "code",
   "execution_count": 56,
   "id": "32327284",
   "metadata": {},
   "outputs": [],
   "source": [
    "yield_df = yield_df.reindex(['Area', 'Item', 'avg_temp', 'average_rain_fall_mm_per_year', 'Pesticides Value', 'Value'], axis=1)"
   ]
  },
  {
   "cell_type": "code",
   "execution_count": 57,
   "id": "bd18bcdb",
   "metadata": {},
   "outputs": [],
   "source": [
    "features = yield_df.iloc[:,0:5]\n",
    "labels = yield_df.iloc[:,5]"
   ]
  },
  {
   "cell_type": "code",
   "execution_count": 58,
   "id": "47b12aba",
   "metadata": {},
   "outputs": [
    {
     "data": {
      "text/plain": [
       "0        36613\n",
       "1        66667\n",
       "2        23333\n",
       "3        12500\n",
       "4         7000\n",
       "         ...  \n",
       "28237    22581\n",
       "28238     3066\n",
       "28239    13142\n",
       "28240    22222\n",
       "28241    22888\n",
       "Name: Value, Length: 28242, dtype: int64"
      ]
     },
     "execution_count": 58,
     "metadata": {},
     "output_type": "execute_result"
    }
   ],
   "source": [
    "labels"
   ]
  },
  {
   "cell_type": "code",
   "execution_count": 59,
   "id": "93cf2946",
   "metadata": {},
   "outputs": [
    {
     "data": {
      "text/html": [
       "<div>\n",
       "<style scoped>\n",
       "    .dataframe tbody tr th:only-of-type {\n",
       "        vertical-align: middle;\n",
       "    }\n",
       "\n",
       "    .dataframe tbody tr th {\n",
       "        vertical-align: top;\n",
       "    }\n",
       "\n",
       "    .dataframe thead th {\n",
       "        text-align: right;\n",
       "    }\n",
       "</style>\n",
       "<table border=\"1\" class=\"dataframe\">\n",
       "  <thead>\n",
       "    <tr style=\"text-align: right;\">\n",
       "      <th></th>\n",
       "      <th>Area</th>\n",
       "      <th>Item</th>\n",
       "      <th>avg_temp</th>\n",
       "      <th>average_rain_fall_mm_per_year</th>\n",
       "      <th>Pesticides Value</th>\n",
       "      <th>Value</th>\n",
       "    </tr>\n",
       "  </thead>\n",
       "  <tbody>\n",
       "    <tr>\n",
       "      <th>count</th>\n",
       "      <td>28242.000000</td>\n",
       "      <td>28242.000000</td>\n",
       "      <td>28242.000000</td>\n",
       "      <td>28242.00000</td>\n",
       "      <td>28242.000000</td>\n",
       "      <td>28242.000000</td>\n",
       "    </tr>\n",
       "    <tr>\n",
       "      <th>mean</th>\n",
       "      <td>46.494724</td>\n",
       "      <td>4.420898</td>\n",
       "      <td>20.542627</td>\n",
       "      <td>1149.05598</td>\n",
       "      <td>37076.909344</td>\n",
       "      <td>77053.332094</td>\n",
       "    </tr>\n",
       "    <tr>\n",
       "      <th>std</th>\n",
       "      <td>26.813405</td>\n",
       "      <td>2.635337</td>\n",
       "      <td>6.312051</td>\n",
       "      <td>709.81215</td>\n",
       "      <td>59958.784665</td>\n",
       "      <td>84956.612897</td>\n",
       "    </tr>\n",
       "    <tr>\n",
       "      <th>min</th>\n",
       "      <td>0.000000</td>\n",
       "      <td>0.000000</td>\n",
       "      <td>1.300000</td>\n",
       "      <td>51.00000</td>\n",
       "      <td>0.040000</td>\n",
       "      <td>50.000000</td>\n",
       "    </tr>\n",
       "    <tr>\n",
       "      <th>25%</th>\n",
       "      <td>24.000000</td>\n",
       "      <td>3.000000</td>\n",
       "      <td>16.702500</td>\n",
       "      <td>593.00000</td>\n",
       "      <td>1702.000000</td>\n",
       "      <td>19919.250000</td>\n",
       "    </tr>\n",
       "    <tr>\n",
       "      <th>50%</th>\n",
       "      <td>42.000000</td>\n",
       "      <td>4.000000</td>\n",
       "      <td>21.510000</td>\n",
       "      <td>1083.00000</td>\n",
       "      <td>17529.440000</td>\n",
       "      <td>38295.000000</td>\n",
       "    </tr>\n",
       "    <tr>\n",
       "      <th>75%</th>\n",
       "      <td>68.000000</td>\n",
       "      <td>7.000000</td>\n",
       "      <td>26.000000</td>\n",
       "      <td>1668.00000</td>\n",
       "      <td>48687.880000</td>\n",
       "      <td>104676.750000</td>\n",
       "    </tr>\n",
       "    <tr>\n",
       "      <th>max</th>\n",
       "      <td>100.000000</td>\n",
       "      <td>9.000000</td>\n",
       "      <td>30.650000</td>\n",
       "      <td>3240.00000</td>\n",
       "      <td>367778.000000</td>\n",
       "      <td>501412.000000</td>\n",
       "    </tr>\n",
       "  </tbody>\n",
       "</table>\n",
       "</div>"
      ],
      "text/plain": [
       "               Area          Item      avg_temp  \\\n",
       "count  28242.000000  28242.000000  28242.000000   \n",
       "mean      46.494724      4.420898     20.542627   \n",
       "std       26.813405      2.635337      6.312051   \n",
       "min        0.000000      0.000000      1.300000   \n",
       "25%       24.000000      3.000000     16.702500   \n",
       "50%       42.000000      4.000000     21.510000   \n",
       "75%       68.000000      7.000000     26.000000   \n",
       "max      100.000000      9.000000     30.650000   \n",
       "\n",
       "       average_rain_fall_mm_per_year  Pesticides Value          Value  \n",
       "count                    28242.00000      28242.000000   28242.000000  \n",
       "mean                      1149.05598      37076.909344   77053.332094  \n",
       "std                        709.81215      59958.784665   84956.612897  \n",
       "min                         51.00000          0.040000      50.000000  \n",
       "25%                        593.00000       1702.000000   19919.250000  \n",
       "50%                       1083.00000      17529.440000   38295.000000  \n",
       "75%                       1668.00000      48687.880000  104676.750000  \n",
       "max                       3240.00000     367778.000000  501412.000000  "
      ]
     },
     "execution_count": 59,
     "metadata": {},
     "output_type": "execute_result"
    }
   ],
   "source": [
    "yield_df.describe()"
   ]
  },
  {
   "cell_type": "code",
   "execution_count": 60,
   "id": "87f7972b",
   "metadata": {},
   "outputs": [
    {
     "data": {
      "image/png": "[encoded data removed]",
      "text/plain": [
       "<Figure size 720x216 with 1 Axes>"
      ]
     },
     "metadata": {
      "needs_background": "light"
     },
     "output_type": "display_data"
    },
    {
     "data": {
      "image/png": "[encoded data removed]",
      "text/plain": [
       "<Figure size 720x216 with 1 Axes>"
      ]
     },
     "metadata": {
      "needs_background": "light"
     },
     "output_type": "display_data"
    },
    {
     "data": {
      "image/png": "[encoded data removed]",
      "text/plain": [
       "<Figure size 720x216 with 1 Axes>"
      ]
     },
     "metadata": {
      "needs_background": "light"
     },
     "output_type": "display_data"
    },
    {
     "data": {
      "image/png": "[encoded data removed]",
      "text/plain": [
       "<Figure size 720x216 with 1 Axes>"
      ]
     },
     "metadata": {
      "needs_background": "light"
     },
     "output_type": "display_data"
    },
    {
     "data": {
      "image/png": "[encoded data removed]",
      "text/plain": [
       "<Figure size 720x216 with 1 Axes>"
      ]
     },
     "metadata": {
      "needs_background": "light"
     },
     "output_type": "display_data"
    }
   ],
   "source": [
    "# based on: Crops yield prediction based on machine learning models: Case of West African countries\n",
    "\n",
    "for feature in [\"Area\", 'Item', 'avg_temp', 'average_rain_fall_mm_per_year', 'Pesticides Value']:\n",
    "    fig, ax = plt.subplots(figsize=(10, 3))\n",
    "    sns.boxplot(x=yield_df[feature],color='#005030')"
   ]
  },
  {
   "cell_type": "code",
   "execution_count": 61,
   "id": "1274ccc3",
   "metadata": {},
   "outputs": [
    {
     "data": {
      "image/png": "[encoded data removed]",
      "text/plain": [
       "<Figure size 720x216 with 1 Axes>"
      ]
     },
     "metadata": {
      "needs_background": "light"
     },
     "output_type": "display_data"
    },
    {
     "data": {
      "image/png": "[encoded data removed]",
      "text/plain": [
       "<Figure size 720x216 with 1 Axes>"
      ]
     },
     "metadata": {
      "needs_background": "light"
     },
     "output_type": "display_data"
    },
    {
     "data": {
      "image/png": "[encoded data removed]",
      "text/plain": [
       "<Figure size 720x216 with 1 Axes>"
      ]
     },
     "metadata": {
      "needs_background": "light"
     },
     "output_type": "display_data"
    },
    {
     "data": {
      "image/png": "[encoded data removed]",
      "text/plain": [
       "<Figure size 720x216 with 1 Axes>"
      ]
     },
     "metadata": {
      "needs_background": "light"
     },
     "output_type": "display_data"
    },
    {
     "data": {
      "image/png": "[encoded data removed]",
      "text/plain": [
       "<Figure size 720x216 with 1 Axes>"
      ]
     },
     "metadata": {
      "needs_background": "light"
     },
     "output_type": "display_data"
    }
   ],
   "source": [
    "for feature in [\"Area\", 'Item', 'avg_temp', 'average_rain_fall_mm_per_year', 'Pesticides Value']:\n",
    "    fig, ax = plt.subplots(figsize=(10, 3))\n",
    "    sns.histplot(yield_df[feature])"
   ]
  },
  {
   "cell_type": "code",
   "execution_count": 62,
   "id": "d32ddb15",
   "metadata": {},
   "outputs": [],
   "source": [
    "key_list = list(le_Item_mapping.keys())\n",
    "val_list = list(le_Item_mapping.values())\n",
    "\n",
    "indeces = []\n",
    "\n",
    "for item in yield_df['Item'].value_counts().to_frame().reset_index()['index']:\n",
    "    position = val_list.index(item)\n",
    "    items = key_list[position]\n",
    "    indeces.append(items)"
   ]
  },
  {
   "cell_type": "code",
   "execution_count": 63,
   "id": "1053f334",
   "metadata": {},
   "outputs": [],
   "source": [
    "temp_df = yield_df['Item'].value_counts().to_frame().reset_index()\n",
    "\n",
    "temp_df[\"index\"].replace({3:'Potatoes', 1:'Maize', 8:'Wheat', 4:'Rice, paddy', 6:'Soybeans', 5:'Sorghum', 7:'Sweet potatoes', 0:'Cassava', 9:'Yams',2:'Plantains and others'},  inplace=True)"
   ]
  },
  {
   "cell_type": "code",
   "execution_count": 64,
   "id": "ea71e9f5",
   "metadata": {},
   "outputs": [
    {
     "data": {
      "text/plain": [
       "<AxesSubplot:xlabel='index', ylabel='Item'>"
      ]
     },
     "execution_count": 64,
     "metadata": {},
     "output_type": "execute_result"
    },
    {
     "data": {
      "image/png": "[encoded data removed]",
      "text/plain": [
       "<Figure size 1080x648 with 1 Axes>"
      ]
     },
     "metadata": {
      "needs_background": "light"
     },
     "output_type": "display_data"
    }
   ],
   "source": [
    "fig, axs = plt.subplots(figsize=(15,9))\n",
    "fig.suptitle('Frequency Count of Items', size = 24)\n",
    "\n",
    "sns.barplot(x='index', y='Item', data=temp_df, orient='v', ax=axs)\n"
   ]
  },
  {
   "cell_type": "code",
   "execution_count": 65,
   "id": "ffd246ab",
   "metadata": {},
   "outputs": [
    {
     "name": "stderr",
     "output_type": "stream",
     "text": [
      "C:\\Users\\user\\anaconda3\\lib\\site-packages\\seaborn\\distributions.py:2619: FutureWarning: `distplot` is a deprecated function and will be removed in a future version. Please adapt your code to use either `displot` (a figure-level function with similar flexibility) or `histplot` (an axes-level function for histograms).\n",
      "  warnings.warn(msg, FutureWarning)\n",
      "C:\\Users\\user\\anaconda3\\lib\\site-packages\\seaborn\\distributions.py:2619: FutureWarning: `distplot` is a deprecated function and will be removed in a future version. Please adapt your code to use either `displot` (a figure-level function with similar flexibility) or `histplot` (an axes-level function for histograms).\n",
      "  warnings.warn(msg, FutureWarning)\n",
      "C:\\Users\\user\\anaconda3\\lib\\site-packages\\seaborn\\distributions.py:2619: FutureWarning: `distplot` is a deprecated function and will be removed in a future version. Please adapt your code to use either `displot` (a figure-level function with similar flexibility) or `histplot` (an axes-level function for histograms).\n",
      "  warnings.warn(msg, FutureWarning)\n",
      "C:\\Users\\user\\anaconda3\\lib\\site-packages\\seaborn\\distributions.py:2619: FutureWarning: `distplot` is a deprecated function and will be removed in a future version. Please adapt your code to use either `displot` (a figure-level function with similar flexibility) or `histplot` (an axes-level function for histograms).\n",
      "  warnings.warn(msg, FutureWarning)\n",
      "C:\\Users\\user\\anaconda3\\lib\\site-packages\\seaborn\\distributions.py:2619: FutureWarning: `distplot` is a deprecated function and will be removed in a future version. Please adapt your code to use either `displot` (a figure-level function with similar flexibility) or `histplot` (an axes-level function for histograms).\n",
      "  warnings.warn(msg, FutureWarning)\n"
     ]
    },
    {
     "data": {
      "image/png": "[encoded data removed]",
      "text/plain": [
       "<Figure size 720x216 with 1 Axes>"
      ]
     },
     "metadata": {
      "needs_background": "light"
     },
     "output_type": "display_data"
    },
    {
     "data": {
      "image/png": "[encoded data removed]",
      "text/plain": [
       "<Figure size 720x216 with 1 Axes>"
      ]
     },
     "metadata": {
      "needs_background": "light"
     },
     "output_type": "display_data"
    },
    {
     "data": {
      "image/png": "[encoded data removed]",
      "text/plain": [
       "<Figure size 720x216 with 1 Axes>"
      ]
     },
     "metadata": {
      "needs_background": "light"
     },
     "output_type": "display_data"
    },
    {
     "data": {
      "image/png": "[encoded data removed]",
      "text/plain": [
       "<Figure size 720x216 with 1 Axes>"
      ]
     },
     "metadata": {
      "needs_background": "light"
     },
     "output_type": "display_data"
    },
    {
     "data": {
      "image/png": "[encoded data removed]",
      "text/plain": [
       "<Figure size 720x216 with 1 Axes>"
      ]
     },
     "metadata": {
      "needs_background": "light"
     },
     "output_type": "display_data"
    }
   ],
   "source": [
    "# based on: Crops yield prediction based on machine learning models: Case of West African countries\n",
    "\n",
    "for feature in [\"Area\", 'Item', 'avg_temp', 'average_rain_fall_mm_per_year', 'Pesticides Value']:\n",
    "    fig, ax = plt.subplots(figsize=(10, 3))\n",
    "    sns.distplot(yield_df[feature])\n",
    "\n"
   ]
  },
  {
   "cell_type": "markdown",
   "id": "9c5464de",
   "metadata": {},
   "source": [
    "#### Measures of Skewness and Kurtosis "
   ]
  },
  {
   "cell_type": "code",
   "execution_count": 66,
   "id": "66ca77ca",
   "metadata": {},
   "outputs": [
    {
     "data": {
      "text/html": [
       "<div>\n",
       "<style scoped>\n",
       "    .dataframe tbody tr th:only-of-type {\n",
       "        vertical-align: middle;\n",
       "    }\n",
       "\n",
       "    .dataframe tbody tr th {\n",
       "        vertical-align: top;\n",
       "    }\n",
       "\n",
       "    .dataframe thead th {\n",
       "        text-align: right;\n",
       "    }\n",
       "</style>\n",
       "<table border=\"1\" class=\"dataframe\">\n",
       "  <thead>\n",
       "    <tr style=\"text-align: right;\">\n",
       "      <th></th>\n",
       "      <th>skew</th>\n",
       "      <th>kurtosis</th>\n",
       "    </tr>\n",
       "  </thead>\n",
       "  <tbody>\n",
       "    <tr>\n",
       "      <th>Area</th>\n",
       "      <td>0.209236</td>\n",
       "      <td>-0.939422</td>\n",
       "    </tr>\n",
       "    <tr>\n",
       "      <th>Item</th>\n",
       "      <td>-0.079440</td>\n",
       "      <td>-1.138366</td>\n",
       "    </tr>\n",
       "    <tr>\n",
       "      <th>avg_temp</th>\n",
       "      <td>-0.741582</td>\n",
       "      <td>-0.417184</td>\n",
       "    </tr>\n",
       "    <tr>\n",
       "      <th>average_rain_fall_mm_per_year</th>\n",
       "      <td>0.853832</td>\n",
       "      <td>0.307060</td>\n",
       "    </tr>\n",
       "    <tr>\n",
       "      <th>Pesticides Value</th>\n",
       "      <td>3.490289</td>\n",
       "      <td>14.007274</td>\n",
       "    </tr>\n",
       "    <tr>\n",
       "      <th>Value</th>\n",
       "      <td>1.793229</td>\n",
       "      <td>3.066114</td>\n",
       "    </tr>\n",
       "  </tbody>\n",
       "</table>\n",
       "</div>"
      ],
      "text/plain": [
       "                                   skew   kurtosis\n",
       "Area                           0.209236  -0.939422\n",
       "Item                          -0.079440  -1.138366\n",
       "avg_temp                      -0.741582  -0.417184\n",
       "average_rain_fall_mm_per_year  0.853832   0.307060\n",
       "Pesticides Value               3.490289  14.007274\n",
       "Value                          1.793229   3.066114"
      ]
     },
     "execution_count": 66,
     "metadata": {},
     "output_type": "execute_result"
    }
   ],
   "source": [
    "# Reference: https://www.marsja.se/transform-skewed-data-using-square-root-log-box-cox-methods-in-python/\n",
    "\n",
    "yield_df.agg(['skew', 'kurtosis']).transpose()"
   ]
  },
  {
   "cell_type": "code",
   "execution_count": 67,
   "id": "615eac19",
   "metadata": {},
   "outputs": [],
   "source": [
    "# Fairly Symmetrical ----> -0.5 to 0.5\n",
    "# Moderate Skewed ----> -0.5 to -1.0 and 0.5 to 1.0\n",
    "# Highly Skewed ----> < -1.0 and > 1.0\n",
    "\n",
    "# Area: Fairly Symmetrical\n",
    "# Item: Fairly Symmetrical\n",
    "# avg_temp: Moderate Skewed (left)\n",
    "# average_rain_fall_mm_per_year: Moderate Skewed (right)\n",
    "# Pesticides Value: Highly Skewed (right)"
   ]
  },
  {
   "cell_type": "code",
   "execution_count": 68,
   "id": "4093c96e",
   "metadata": {},
   "outputs": [],
   "source": [
    "yield_df['Pesticides Value'] = np.log(yield_df['Pesticides Value'])\n",
    "yield_df['average_rain_fall_mm_per_year'] = np.sqrt(yield_df['average_rain_fall_mm_per_year'])"
   ]
  },
  {
   "cell_type": "code",
   "execution_count": 69,
   "id": "ef090090",
   "metadata": {},
   "outputs": [],
   "source": [
    "reflected_avg_temp = yield_df['avg_temp'].max()+1-yield_df['avg_temp']\n",
    "yield_df['avg_temp'] = np.sqrt(yield_df['avg_temp'])"
   ]
  },
  {
   "cell_type": "code",
   "execution_count": 70,
   "id": "1f2f1d14",
   "metadata": {},
   "outputs": [
    {
     "name": "stderr",
     "output_type": "stream",
     "text": [
      "C:\\Users\\user\\anaconda3\\lib\\site-packages\\seaborn\\distributions.py:2619: FutureWarning: `distplot` is a deprecated function and will be removed in a future version. Please adapt your code to use either `displot` (a figure-level function with similar flexibility) or `histplot` (an axes-level function for histograms).\n",
      "  warnings.warn(msg, FutureWarning)\n",
      "C:\\Users\\user\\anaconda3\\lib\\site-packages\\seaborn\\distributions.py:2619: FutureWarning: `distplot` is a deprecated function and will be removed in a future version. Please adapt your code to use either `displot` (a figure-level function with similar flexibility) or `histplot` (an axes-level function for histograms).\n",
      "  warnings.warn(msg, FutureWarning)\n",
      "C:\\Users\\user\\anaconda3\\lib\\site-packages\\seaborn\\distributions.py:2619: FutureWarning: `distplot` is a deprecated function and will be removed in a future version. Please adapt your code to use either `displot` (a figure-level function with similar flexibility) or `histplot` (an axes-level function for histograms).\n",
      "  warnings.warn(msg, FutureWarning)\n",
      "C:\\Users\\user\\anaconda3\\lib\\site-packages\\seaborn\\distributions.py:2619: FutureWarning: `distplot` is a deprecated function and will be removed in a future version. Please adapt your code to use either `displot` (a figure-level function with similar flexibility) or `histplot` (an axes-level function for histograms).\n",
      "  warnings.warn(msg, FutureWarning)\n",
      "C:\\Users\\user\\anaconda3\\lib\\site-packages\\seaborn\\distributions.py:2619: FutureWarning: `distplot` is a deprecated function and will be removed in a future version. Please adapt your code to use either `displot` (a figure-level function with similar flexibility) or `histplot` (an axes-level function for histograms).\n",
      "  warnings.warn(msg, FutureWarning)\n"
     ]
    },
    {
     "data": {
      "image/png": "[encoded data removed]",
      "text/plain": [
       "<Figure size 720x216 with 1 Axes>"
      ]
     },
     "metadata": {
      "needs_background": "light"
     },
     "output_type": "display_data"
    },
    {
     "data": {
      "image/png": "[encoded data removed]",
      "text/plain": [
       "<Figure size 720x216 with 1 Axes>"
      ]
     },
     "metadata": {
      "needs_background": "light"
     },
     "output_type": "display_data"
    },
    {
     "data": {
      "image/png": "[encoded data removed]",
      "text/plain": [
       "<Figure size 720x216 with 1 Axes>"
      ]
     },
     "metadata": {
      "needs_background": "light"
     },
     "output_type": "display_data"
    },
    {
     "data": {
      "image/png": "[encoded data removed]",
      "text/plain": [
       "<Figure size 720x216 with 1 Axes>"
      ]
     },
     "metadata": {
      "needs_background": "light"
     },
     "output_type": "display_data"
    },
    {
     "data": {
      "image/png": "[encoded data removed]",
      "text/plain": [
       "<Figure size 720x216 with 1 Axes>"
      ]
     },
     "metadata": {
      "needs_background": "light"
     },
     "output_type": "display_data"
    }
   ],
   "source": [
    "for feature in [\"Area\", 'Item', 'avg_temp', 'average_rain_fall_mm_per_year', 'Pesticides Value']:\n",
    "    fig, ax = plt.subplots(figsize=(10, 3))\n",
    "    sns.distplot(yield_df[feature])"
   ]
  },
  {
   "cell_type": "code",
   "execution_count": 71,
   "id": "22097b40",
   "metadata": {},
   "outputs": [
    {
     "data": {
      "text/html": [
       "<div>\n",
       "<style scoped>\n",
       "    .dataframe tbody tr th:only-of-type {\n",
       "        vertical-align: middle;\n",
       "    }\n",
       "\n",
       "    .dataframe tbody tr th {\n",
       "        vertical-align: top;\n",
       "    }\n",
       "\n",
       "    .dataframe thead th {\n",
       "        text-align: right;\n",
       "    }\n",
       "</style>\n",
       "<table border=\"1\" class=\"dataframe\">\n",
       "  <thead>\n",
       "    <tr style=\"text-align: right;\">\n",
       "      <th></th>\n",
       "      <th>skew</th>\n",
       "      <th>kurtosis</th>\n",
       "    </tr>\n",
       "  </thead>\n",
       "  <tbody>\n",
       "    <tr>\n",
       "      <th>Area</th>\n",
       "      <td>0.209236</td>\n",
       "      <td>-0.939422</td>\n",
       "    </tr>\n",
       "    <tr>\n",
       "      <th>Item</th>\n",
       "      <td>-0.079440</td>\n",
       "      <td>-1.138366</td>\n",
       "    </tr>\n",
       "    <tr>\n",
       "      <th>avg_temp</th>\n",
       "      <td>-1.103933</td>\n",
       "      <td>0.582924</td>\n",
       "    </tr>\n",
       "    <tr>\n",
       "      <th>average_rain_fall_mm_per_year</th>\n",
       "      <td>0.055279</td>\n",
       "      <td>-0.240578</td>\n",
       "    </tr>\n",
       "    <tr>\n",
       "      <th>Pesticides Value</th>\n",
       "      <td>-1.156482</td>\n",
       "      <td>1.197660</td>\n",
       "    </tr>\n",
       "    <tr>\n",
       "      <th>Value</th>\n",
       "      <td>1.793229</td>\n",
       "      <td>3.066114</td>\n",
       "    </tr>\n",
       "  </tbody>\n",
       "</table>\n",
       "</div>"
      ],
      "text/plain": [
       "                                   skew  kurtosis\n",
       "Area                           0.209236 -0.939422\n",
       "Item                          -0.079440 -1.138366\n",
       "avg_temp                      -1.103933  0.582924\n",
       "average_rain_fall_mm_per_year  0.055279 -0.240578\n",
       "Pesticides Value              -1.156482  1.197660\n",
       "Value                          1.793229  3.066114"
      ]
     },
     "execution_count": 71,
     "metadata": {},
     "output_type": "execute_result"
    }
   ],
   "source": [
    "yield_df.agg(['skew', 'kurtosis']).transpose()"
   ]
  },
  {
   "cell_type": "code",
   "execution_count": 72,
   "id": "4a41395b",
   "metadata": {},
   "outputs": [
    {
     "data": {
      "image/png": "[encoded data removed]",
      "text/plain": [
       "<Figure size 720x216 with 1 Axes>"
      ]
     },
     "metadata": {
      "needs_background": "light"
     },
     "output_type": "display_data"
    },
    {
     "data": {
      "image/png": "[encoded data removed]",
      "text/plain": [
       "<Figure size 720x216 with 1 Axes>"
      ]
     },
     "metadata": {
      "needs_background": "light"
     },
     "output_type": "display_data"
    },
    {
     "data": {
      "image/png": "[encoded data removed]",
      "text/plain": [
       "<Figure size 720x216 with 1 Axes>"
      ]
     },
     "metadata": {
      "needs_background": "light"
     },
     "output_type": "display_data"
    },
    {
     "data": {
      "image/png": "[encoded data removed]",
      "text/plain": [
       "<Figure size 720x216 with 1 Axes>"
      ]
     },
     "metadata": {
      "needs_background": "light"
     },
     "output_type": "display_data"
    },
    {
     "data": {
      "image/png": "[encoded data removed]",
      "text/plain": [
       "<Figure size 720x216 with 1 Axes>"
      ]
     },
     "metadata": {
      "needs_background": "light"
     },
     "output_type": "display_data"
    }
   ],
   "source": [
    "for feature in [\"Area\", 'Item', 'avg_temp', 'average_rain_fall_mm_per_year', 'Pesticides Value']:\n",
    "    fig, ax = plt.subplots(figsize=(10, 3))\n",
    "    sns.boxplot(x=yield_df[feature],color='#005030')"
   ]
  },
  {
   "cell_type": "markdown",
   "id": "74768f55",
   "metadata": {},
   "source": [
    "### PreProcessing: Scaling"
   ]
  },
  {
   "cell_type": "code",
   "execution_count": 73,
   "id": "a24cfabc",
   "metadata": {},
   "outputs": [],
   "source": [
    "from sklearn.preprocessing import StandardScaler\n",
    "\n",
    "standardscalar = StandardScaler()\n",
    "features = standardscalar.fit_transform(features)"
   ]
  },
  {
   "cell_type": "code",
   "execution_count": 74,
   "id": "d1e34fa4",
   "metadata": {},
   "outputs": [
    {
     "data": {
      "text/plain": [
       "array([[-1.73404116, -1.29811042, -0.66106889,  0.47329419, -0.61636612],\n",
       "       [-1.73404116, -0.53918079, -0.66106889,  0.47329419, -0.61636612],\n",
       "       [-1.73404116, -0.15971597, -0.66106889,  0.47329419, -0.61636612],\n",
       "       ...,\n",
       "       [ 1.99550277,  0.59921367, -0.12399147, -0.69323228, -0.57585308],\n",
       "       [ 1.99550277,  0.97867849, -0.12399147, -0.69323228, -0.57585308],\n",
       "       [ 1.99550277,  1.35814331, -0.12399147, -0.69323228, -0.57585308]])"
      ]
     },
     "execution_count": 74,
     "metadata": {},
     "output_type": "execute_result"
    }
   ],
   "source": [
    "features"
   ]
  },
  {
   "cell_type": "markdown",
   "id": "090b3740",
   "metadata": {},
   "source": [
    "### train/test split"
   ]
  },
  {
   "cell_type": "code",
   "execution_count": 75,
   "id": "fc4b7ef7",
   "metadata": {},
   "outputs": [],
   "source": [
    "from sklearn.model_selection import train_test_split\n",
    "\n",
    "train_X, test_X, train_Y, test_Y = train_test_split(features, labels, test_size = 0.2, random_state = 42)"
   ]
  },
  {
   "cell_type": "markdown",
   "id": "fe80e0a1",
   "metadata": {},
   "source": [
    "### Building Regression Models"
   ]
  },
  {
   "cell_type": "markdown",
   "id": "96c9eda4",
   "metadata": {},
   "source": [
    "#### Gradient Boosting Regressor"
   ]
  },
  {
   "cell_type": "code",
   "execution_count": 76,
   "id": "c96170c1",
   "metadata": {},
   "outputs": [],
   "source": [
    "from sklearn.ensemble import GradientBoostingRegressor\n",
    "\n",
    "model = GradientBoostingRegressor(n_estimators=200, max_depth=3, random_state=0, learning_rate = 0.1).fit(train_X, train_Y)"
   ]
  },
  {
   "cell_type": "code",
   "execution_count": 77,
   "id": "6ae0663c",
   "metadata": {},
   "outputs": [],
   "source": [
    "predict_label = model.predict(test_X)"
   ]
  },
  {
   "cell_type": "code",
   "execution_count": 78,
   "id": "d0b887e6",
   "metadata": {},
   "outputs": [
    {
     "name": "stdout",
     "output_type": "stream",
     "text": [
      "r2-score in test set:  0.8654316246716721\n"
     ]
    }
   ],
   "source": [
    "from sklearn.metrics import r2_score\n",
    "\n",
    "r2_test =r2_score(test_Y,predict_label)\n",
    "print(\"r2-score in test set: \", r2_test)"
   ]
  },
  {
   "cell_type": "code",
   "execution_count": 79,
   "id": "57063793",
   "metadata": {},
   "outputs": [
    {
     "data": {
      "image/png": "[encoded data removed]",
      "text/plain": [
       "<Figure size 432x288 with 1 Axes>"
      ]
     },
     "metadata": {
      "needs_background": "light"
     },
     "output_type": "display_data"
    }
   ],
   "source": [
    "import scipy\n",
    "\n",
    "# reference: https://www.kaggle.com/code/patelris/crop-yield-eda-viz\n",
    "# reference: https://github.com/Drinkler/Yield-Prediction/blob/main/Yield_Prediction.ipynb\n",
    "\n",
    "# So let's run the model actual values against the predicted ones \n",
    "\n",
    "from sklearn.metrics import mean_squared_error, r2_score, mean_absolute_error, max_error\n",
    "\n",
    "fig, ax = plt.subplots() \n",
    "\n",
    "ax.scatter(test_Y, predict_label, edgecolors=(0,1,0))\n",
    "\n",
    "ax.set_xlabel('Actual')\n",
    "ax.set_ylabel('Predicted')\n",
    "ax.set_title(\"Actual vs Predicted\")\n",
    "\n",
    "slope, intercept, rvalue, pvalue, stderr = scipy.stats.linregress(test_Y, predict_label)\n",
    "ax.plot([test_Y.min(), test_Y.max()], [intercept+test_Y.min()*slope, intercept+test_Y.max()*slope], '--r')\n",
    "\n",
    "scores =  ((r'$R^2$ = {:.2f}' + '\\n' + \n",
    "                          r'MAE = {:.0f}' + '\\n' +\n",
    "                          r'MSE = {:.0f}' + '\\n' +\n",
    "                          r'RMSE = {:.0f}' + '\\n' +\n",
    "                          r'MAX = {:.0f}' \n",
    "                          )\n",
    "                          .format(r2_score(test_Y, predict_label),\n",
    "                                  mean_absolute_error(test_Y, predict_label),\n",
    "                                  mean_squared_error(test_Y, predict_label),\n",
    "                                  mean_squared_error(test_Y, predict_label, squared=False),\n",
    "                                  max_error(test_Y, predict_label),\n",
    "                                  ))\n",
    "\n",
    "\n",
    "ax.legend([scores], loc='upper left')\n",
    "plt.show()"
   ]
  },
  {
   "cell_type": "markdown",
   "id": "f15df55c",
   "metadata": {},
   "source": [
    "#### Random Forest Regressor"
   ]
  },
  {
   "cell_type": "code",
   "execution_count": 80,
   "id": "d44fb124",
   "metadata": {},
   "outputs": [],
   "source": [
    "from sklearn.ensemble import RandomForestRegressor\n",
    "\n",
    "model = RandomForestRegressor(n_estimators=200, max_depth=12, random_state=0).fit(train_X, train_Y)"
   ]
  },
  {
   "cell_type": "code",
   "execution_count": 81,
   "id": "5c396880",
   "metadata": {},
   "outputs": [],
   "source": [
    "predict_label = model.predict(test_X)"
   ]
  },
  {
   "cell_type": "code",
   "execution_count": 82,
   "id": "b3eadacc",
   "metadata": {},
   "outputs": [
    {
     "name": "stdout",
     "output_type": "stream",
     "text": [
      "r2-score in test set:  0.9710937747842185\n"
     ]
    }
   ],
   "source": [
    "r2_test =r2_score(test_Y,predict_label)\n",
    "print(\"r2-score in test set: \", r2_test)"
   ]
  },
  {
   "cell_type": "code",
   "execution_count": 83,
   "id": "ac7b0f97",
   "metadata": {},
   "outputs": [
    {
     "data": {
      "image/png": "[encoded data removed]",
      "text/plain": [
       "<Figure size 432x288 with 1 Axes>"
      ]
     },
     "metadata": {
      "needs_background": "light"
     },
     "output_type": "display_data"
    }
   ],
   "source": [
    "fig, ax = plt.subplots() \n",
    "\n",
    "ax.scatter(test_Y, predict_label, edgecolors=(0,1,0))\n",
    "\n",
    "ax.set_xlabel('Actual')\n",
    "ax.set_ylabel('Predicted')\n",
    "ax.set_title(\"Actual vs Predicted\")\n",
    "\n",
    "slope, intercept, rvalue, pvalue, stderr = scipy.stats.linregress(test_Y, predict_label)\n",
    "ax.plot([test_Y.min(), test_Y.max()], [intercept+test_Y.min()*slope, intercept+test_Y.max()*slope], '--r')\n",
    "\n",
    "scores =  ((r'$R^2$ = {:.2f}' + '\\n' + \n",
    "                          r'MAE = {:.0f}' + '\\n' +\n",
    "                          r'MSE = {:.0f}' + '\\n' +\n",
    "                          r'RMSE = {:.0f}' + '\\n' +\n",
    "                          r'MAX = {:.0f}' \n",
    "                          )\n",
    "                          .format(r2_score(test_Y, predict_label),\n",
    "                                  mean_absolute_error(test_Y, predict_label),\n",
    "                                  mean_squared_error(test_Y, predict_label),\n",
    "                                  mean_squared_error(test_Y, predict_label, squared=False),\n",
    "                                  max_error(test_Y, predict_label),\n",
    "                                  ))\n",
    "\n",
    "\n",
    "ax.legend([scores], loc='upper left')\n",
    "plt.show()"
   ]
  },
  {
   "cell_type": "markdown",
   "id": "252b74c9",
   "metadata": {},
   "source": [
    "#### Decision Tree Regressor"
   ]
  },
  {
   "cell_type": "code",
   "execution_count": 84,
   "id": "76fb7a49",
   "metadata": {},
   "outputs": [],
   "source": [
    "from sklearn.tree import DecisionTreeRegressor\n",
    "\n",
    "model = DecisionTreeRegressor().fit(train_X, train_Y)"
   ]
  },
  {
   "cell_type": "code",
   "execution_count": 85,
   "id": "d83eb1e9",
   "metadata": {},
   "outputs": [],
   "source": [
    "predict_label = model.predict(test_X)"
   ]
  },
  {
   "cell_type": "code",
   "execution_count": 86,
   "id": "60849be9",
   "metadata": {},
   "outputs": [
    {
     "name": "stdout",
     "output_type": "stream",
     "text": [
      "r2-score in test set:  0.9572064503862284\n"
     ]
    }
   ],
   "source": [
    "r2_test =r2_score(test_Y,predict_label)\n",
    "print(\"r2-score in test set: \", r2_test)"
   ]
  },
  {
   "cell_type": "code",
   "execution_count": 87,
   "id": "f0c7711e",
   "metadata": {},
   "outputs": [
    {
     "data": {
      "image/png": "[encoded data removed]",
      "text/plain": [
       "<Figure size 432x288 with 1 Axes>"
      ]
     },
     "metadata": {
      "needs_background": "light"
     },
     "output_type": "display_data"
    }
   ],
   "source": [
    "fig, ax = plt.subplots() \n",
    "\n",
    "ax.scatter(test_Y, predict_label, edgecolors=(0,1,0))\n",
    "\n",
    "ax.set_xlabel('Actual')\n",
    "ax.set_ylabel('Predicted')\n",
    "ax.set_title(\"Actual vs Predicted\")\n",
    "\n",
    "slope, intercept, rvalue, pvalue, stderr = scipy.stats.linregress(test_Y, predict_label)\n",
    "ax.plot([test_Y.min(), test_Y.max()], [intercept+test_Y.min()*slope, intercept+test_Y.max()*slope], '--r')\n",
    "\n",
    "scores =  ((r'$R^2$ = {:.2f}' + '\\n' + \n",
    "                          r'MAE = {:.0f}' + '\\n' +\n",
    "                          r'MSE = {:.0f}' + '\\n' +\n",
    "                          r'RMSE = {:.0f}' + '\\n' +\n",
    "                          r'MAX = {:.0f}' \n",
    "                          )\n",
    "                          .format(r2_score(test_Y, predict_label),\n",
    "                                  mean_absolute_error(test_Y, predict_label),\n",
    "                                  mean_squared_error(test_Y, predict_label),\n",
    "                                  mean_squared_error(test_Y, predict_label, squared=False),\n",
    "                                  max_error(test_Y, predict_label),\n",
    "                                  ))\n",
    "\n",
    "\n",
    "ax.legend([scores], loc='upper left')\n",
    "plt.show()"
   ]
  },
  {
   "cell_type": "markdown",
   "id": "5b0dc572",
   "metadata": {},
   "source": [
    "#### KNeighbors Regressor"
   ]
  },
  {
   "cell_type": "code",
   "execution_count": 88,
   "id": "3975b9b8",
   "metadata": {},
   "outputs": [],
   "source": [
    "from sklearn.neighbors import KNeighborsRegressor\n",
    "\n",
    "model = KNeighborsRegressor().fit(train_X, train_Y)"
   ]
  },
  {
   "cell_type": "code",
   "execution_count": 89,
   "id": "40f522af",
   "metadata": {},
   "outputs": [],
   "source": [
    "predict_label = model.predict(test_X)"
   ]
  },
  {
   "cell_type": "code",
   "execution_count": 90,
   "id": "d3c82190",
   "metadata": {},
   "outputs": [
    {
     "name": "stdout",
     "output_type": "stream",
     "text": [
      "r2-score in test set:  0.9532185671084619\n"
     ]
    }
   ],
   "source": [
    "r2_test =r2_score(test_Y,predict_label)\n",
    "print(\"r2-score in test set: \", r2_test)"
   ]
  },
  {
   "cell_type": "code",
   "execution_count": 91,
   "id": "2fb57558",
   "metadata": {},
   "outputs": [
    {
     "data": {
      "image/png": "[encoded data removed]",
      "text/plain": [
       "<Figure size 432x288 with 1 Axes>"
      ]
     },
     "metadata": {
      "needs_background": "light"
     },
     "output_type": "display_data"
    }
   ],
   "source": [
    "fig, ax = plt.subplots() \n",
    "\n",
    "ax.scatter(test_Y, predict_label, edgecolors=(0,1,0))\n",
    "\n",
    "ax.set_xlabel('Actual')\n",
    "ax.set_ylabel('Predicted')\n",
    "ax.set_title(\"Actual vs Predicted\")\n",
    "\n",
    "slope, intercept, rvalue, pvalue, stderr = scipy.stats.linregress(test_Y, predict_label)\n",
    "ax.plot([test_Y.min(), test_Y.max()], [intercept+test_Y.min()*slope, intercept+test_Y.max()*slope], '--r')\n",
    "\n",
    "scores =  ((r'$R^2$ = {:.2f}' + '\\n' + \n",
    "                          r'MAE = {:.0f}' + '\\n' +\n",
    "                          r'MSE = {:.0f}' + '\\n' +\n",
    "                          r'RMSE = {:.0f}' + '\\n' +\n",
    "                          r'MAX = {:.0f}' \n",
    "                          )\n",
    "                          .format(r2_score(test_Y, predict_label),\n",
    "                                  mean_absolute_error(test_Y, predict_label),\n",
    "                                  mean_squared_error(test_Y, predict_label),\n",
    "                                  mean_squared_error(test_Y, predict_label, squared=False),\n",
    "                                  max_error(test_Y, predict_label),\n",
    "                                  ))\n",
    "\n",
    "\n",
    "ax.legend([scores], loc='upper left')\n",
    "plt.show()"
   ]
  },
  {
   "cell_type": "code",
   "execution_count": 92,
   "id": "9f4fadf2",
   "metadata": {},
   "outputs": [],
   "source": [
    "test_df = pd.DataFrame(test_X)"
   ]
  },
  {
   "cell_type": "code",
   "execution_count": 93,
   "id": "c67eede4",
   "metadata": {},
   "outputs": [
    {
     "data": {
      "text/html": [
       "<div>\n",
       "<style scoped>\n",
       "    .dataframe tbody tr th:only-of-type {\n",
       "        vertical-align: middle;\n",
       "    }\n",
       "\n",
       "    .dataframe tbody tr th {\n",
       "        vertical-align: top;\n",
       "    }\n",
       "\n",
       "    .dataframe thead th {\n",
       "        text-align: right;\n",
       "    }\n",
       "</style>\n",
       "<table border=\"1\" class=\"dataframe\">\n",
       "  <thead>\n",
       "    <tr style=\"text-align: right;\">\n",
       "      <th></th>\n",
       "      <th>0</th>\n",
       "      <th>1</th>\n",
       "      <th>2</th>\n",
       "      <th>3</th>\n",
       "      <th>4</th>\n",
       "    </tr>\n",
       "  </thead>\n",
       "  <tbody>\n",
       "    <tr>\n",
       "      <th>0</th>\n",
       "      <td>1.436071</td>\n",
       "      <td>-0.159716</td>\n",
       "      <td>-0.527988</td>\n",
       "      <td>-0.722818</td>\n",
       "      <td>0.060744</td>\n",
       "    </tr>\n",
       "    <tr>\n",
       "      <th>1</th>\n",
       "      <td>0.354503</td>\n",
       "      <td>1.358143</td>\n",
       "      <td>-0.131913</td>\n",
       "      <td>0.512742</td>\n",
       "      <td>-0.615849</td>\n",
       "    </tr>\n",
       "    <tr>\n",
       "      <th>2</th>\n",
       "      <td>1.436071</td>\n",
       "      <td>0.219749</td>\n",
       "      <td>-0.638889</td>\n",
       "      <td>-0.722818</td>\n",
       "      <td>0.032791</td>\n",
       "    </tr>\n",
       "    <tr>\n",
       "      <th>3</th>\n",
       "      <td>-0.913541</td>\n",
       "      <td>-0.539181</td>\n",
       "      <td>1.094335</td>\n",
       "      <td>2.945823</td>\n",
       "      <td>0.756569</td>\n",
       "    </tr>\n",
       "    <tr>\n",
       "      <th>4</th>\n",
       "      <td>0.354503</td>\n",
       "      <td>0.978678</td>\n",
       "      <td>-0.141419</td>\n",
       "      <td>0.512742</td>\n",
       "      <td>-0.616208</td>\n",
       "    </tr>\n",
       "    <tr>\n",
       "      <th>...</th>\n",
       "      <td>...</td>\n",
       "      <td>...</td>\n",
       "      <td>...</td>\n",
       "      <td>...</td>\n",
       "      <td>...</td>\n",
       "    </tr>\n",
       "    <tr>\n",
       "      <th>5644</th>\n",
       "      <td>1.398776</td>\n",
       "      <td>1.358143</td>\n",
       "      <td>0.083552</td>\n",
       "      <td>-0.921466</td>\n",
       "      <td>-0.170452</td>\n",
       "    </tr>\n",
       "    <tr>\n",
       "      <th>5645</th>\n",
       "      <td>-1.062723</td>\n",
       "      <td>-1.677575</td>\n",
       "      <td>0.783812</td>\n",
       "      <td>0.640947</td>\n",
       "      <td>-0.603059</td>\n",
       "    </tr>\n",
       "    <tr>\n",
       "      <th>5646</th>\n",
       "      <td>-0.167633</td>\n",
       "      <td>-1.677575</td>\n",
       "      <td>0.793318</td>\n",
       "      <td>-0.093063</td>\n",
       "      <td>0.403286</td>\n",
       "    </tr>\n",
       "    <tr>\n",
       "      <th>5647</th>\n",
       "      <td>0.056140</td>\n",
       "      <td>-1.298110</td>\n",
       "      <td>-1.128437</td>\n",
       "      <td>0.731113</td>\n",
       "      <td>0.553484</td>\n",
       "    </tr>\n",
       "    <tr>\n",
       "      <th>5648</th>\n",
       "      <td>-1.211905</td>\n",
       "      <td>0.219749</td>\n",
       "      <td>1.137111</td>\n",
       "      <td>0.862136</td>\n",
       "      <td>2.962889</td>\n",
       "    </tr>\n",
       "  </tbody>\n",
       "</table>\n",
       "<p>5649 rows × 5 columns</p>\n",
       "</div>"
      ],
      "text/plain": [
       "             0         1         2         3         4\n",
       "0     1.436071 -0.159716 -0.527988 -0.722818  0.060744\n",
       "1     0.354503  1.358143 -0.131913  0.512742 -0.615849\n",
       "2     1.436071  0.219749 -0.638889 -0.722818  0.032791\n",
       "3    -0.913541 -0.539181  1.094335  2.945823  0.756569\n",
       "4     0.354503  0.978678 -0.141419  0.512742 -0.616208\n",
       "...        ...       ...       ...       ...       ...\n",
       "5644  1.398776  1.358143  0.083552 -0.921466 -0.170452\n",
       "5645 -1.062723 -1.677575  0.783812  0.640947 -0.603059\n",
       "5646 -0.167633 -1.677575  0.793318 -0.093063  0.403286\n",
       "5647  0.056140 -1.298110 -1.128437  0.731113  0.553484\n",
       "5648 -1.211905  0.219749  1.137111  0.862136  2.962889\n",
       "\n",
       "[5649 rows x 5 columns]"
      ]
     },
     "execution_count": 93,
     "metadata": {},
     "output_type": "execute_result"
    }
   ],
   "source": [
    "test_df"
   ]
  },
  {
   "cell_type": "code",
   "execution_count": 94,
   "id": "94d24d19",
   "metadata": {},
   "outputs": [],
   "source": [
    "# It seems that between all the above algorithms RandomForestRegressor has the highest R2 score\n",
    "# which means it is probably the best algorithm due to its accuracy.\n",
    "# so I will be using this algorithm to train my model and assest users crops yields."
   ]
  },
  {
   "cell_type": "markdown",
   "id": "cf05c1c0",
   "metadata": {},
   "source": [
    "### user interface"
   ]
  },
  {
   "cell_type": "code",
   "execution_count": 95,
   "id": "a040ee33",
   "metadata": {},
   "outputs": [],
   "source": [
    "# 100 \t4 \t22581 \t657.0 \t2550.07 \t19.76"
   ]
  },
  {
   "cell_type": "code",
   "execution_count": 96,
   "id": "251e1df4",
   "metadata": {},
   "outputs": [],
   "source": [
    "def users_input():\n",
    "    Area = input('Area: ')\n",
    "    Item = input('Item: ')\n",
    "    average_rain_fall_mm_per_year = input('average_rain_fall_mm_per_year')\n",
    "    Pesticides_Value = input('Pesticides Value')\n",
    "    avg_temp = input('avg_temp')\n",
    "    \n",
    "    return(Area, Item, average_rain_fall_mm_per_year, Pesticides_Value, avg_temp)"
   ]
  },
  {
   "cell_type": "code",
   "execution_count": 97,
   "id": "c1f1a592",
   "metadata": {},
   "outputs": [
    {
     "name": "stdout",
     "output_type": "stream",
     "text": [
      "Area: Armenia\n",
      "Item: Maize\n",
      "average_rain_fall_mm_per_year22581\n",
      "Pesticides Value650\n",
      "avg_temp20\n"
     ]
    }
   ],
   "source": [
    "Area, Item, average_rain_fall_mm_per_year, Pesticides_Value, avg_temp = users_input()"
   ]
  },
  {
   "cell_type": "code",
   "execution_count": 98,
   "id": "5a5fb4ff",
   "metadata": {},
   "outputs": [],
   "source": [
    "def making_dataset(Area, Item, average_rain_fall_mm_per_year, Pesticides_Value, avg_temp):\n",
    "    \n",
    "    while Area==None or Item==None or average_rain_fall_mm_per_year==None or Pesticides_Value==None or avg_temp==None:\n",
    "        print('Please fill in all the inputs.')\n",
    "        Area = input('Area: ')\n",
    "        Item = input('Item: ')\n",
    "        average_rain_fall_mm_per_year = input('average_rain_fall_mm_per_year')\n",
    "        Pesticides_Value = input('Pesticides Value')\n",
    "        avg_temp = input('avg_temp')\n",
    "\n",
    "    while Area not in le_Area_mapping:\n",
    "        print('Your Country can not be found in our dataset. Put a Valid Country.')\n",
    "        Area = input('Area: ')\n",
    "            \n",
    "    while Item not in le_Item_mapping:\n",
    "        print('Your Item can not be found in our dataset. Put a Valid Item.')\n",
    "        Item = input('Item: ')\n",
    "        \n",
    "    new_test_data = {'Area': [Area],\n",
    "                 'Item': [Item],\n",
    "                 'average_rain_fall_mm_per_year': [average_rain_fall_mm_per_year],\n",
    "                 'Pesticides Value': [Pesticides_Value],\n",
    "                 'avg_temp': [avg_temp]}\n",
    "    \n",
    "    new_test_data.update({'Area': [le_Area_mapping[Area]], 'Item': [le_Item_mapping[Item]]})\n",
    "    \n",
    "    return(new_test_data)\n"
   ]
  },
  {
   "cell_type": "code",
   "execution_count": 99,
   "id": "0f6d55bb",
   "metadata": {},
   "outputs": [],
   "source": [
    "new_test_data = making_dataset(Area, Item, average_rain_fall_mm_per_year, Pesticides_Value, avg_temp)"
   ]
  },
  {
   "cell_type": "code",
   "execution_count": 100,
   "id": "55c861eb",
   "metadata": {},
   "outputs": [],
   "source": [
    "def Prediction(new_test_data):\n",
    "    new_test_df = pd.DataFrame(new_test_data)\n",
    "    # Pre processing\n",
    "    scalar = StandardScaler()\n",
    "    scalar_new_test = scalar.fit_transform(new_test_df)\n",
    "    # Training\n",
    "    model = RandomForestRegressor(n_estimators=200, max_depth=12, random_state=0).fit(train_X, train_Y)\n",
    "    # Predict labels\n",
    "    predict_label = model.predict(scalar_new_test)\n",
    "    \n",
    "    return(predict_label)"
   ]
  },
  {
   "cell_type": "code",
   "execution_count": 101,
   "id": "0814183e",
   "metadata": {},
   "outputs": [
    {
     "data": {
      "text/plain": [
       "{'Area': [4],\n",
       " 'Item': [1],\n",
       " 'average_rain_fall_mm_per_year': ['22581'],\n",
       " 'Pesticides Value': ['650'],\n",
       " 'avg_temp': ['20']}"
      ]
     },
     "execution_count": 101,
     "metadata": {},
     "output_type": "execute_result"
    }
   ],
   "source": [
    "making_dataset(Area, Item, average_rain_fall_mm_per_year, Pesticides_Value, avg_temp)"
   ]
  },
  {
   "cell_type": "code",
   "execution_count": 102,
   "id": "5f73ad01",
   "metadata": {},
   "outputs": [],
   "source": [
    "predicted_label = Prediction(new_test_data)"
   ]
  },
  {
   "cell_type": "code",
   "execution_count": 103,
   "id": "9796630a",
   "metadata": {},
   "outputs": [
    {
     "data": {
      "image/png": "[encoded data removed]",
      "text/plain": [
       "<Figure size 432x288 with 1 Axes>"
      ]
     },
     "metadata": {},
     "output_type": "display_data"
    }
   ],
   "source": [
    "import matplotlib.pyplot as plt\n",
    "\n",
    "x = np.concatenate((predicted_label, np.array([labels.max()])))\n",
    "label = ['Your Yield', 'Maximum Yield']\n",
    "\n",
    "fig, ax = plt.subplots()\n",
    "ax.pie(x, labels = label)\n",
    "ax.set_title('Survery responses')\n",
    "plt.show()"
   ]
  },
  {
   "cell_type": "markdown",
   "id": "46f9f206",
   "metadata": {},
   "source": [
    "#### User Interface with TKinter"
   ]
  },
  {
   "cell_type": "code",
   "execution_count": null,
   "id": "a6c2298e",
   "metadata": {},
   "outputs": [],
   "source": [
    "import tkinter as tk\n",
    "from tkinter import *\n",
    "import matplotlib.pyplot as plt\n",
    "from matplotlib.backends.backend_tkagg import (FigureCanvasTkAgg, \n",
    "NavigationToolbar2Tk)\n",
    "\n",
    "####### Screen Setting ##################\n",
    "screen = Tk()\n",
    "screen.geometry('800x1100')\n",
    "screen.configure(bg = '#000000')\n",
    "screen.resizable(0, 0)\n",
    "screen.title(\"Cops Yield Prediction\")\n",
    "\n",
    "\n",
    "####### Functions ############################\n",
    "def predict():\n",
    "    Area = Area_text.get()\n",
    "    Item = Item_text.get()\n",
    "    average_rain_fall_mm_per_year = average_rain_fall_mm_per_year_text.get()\n",
    "    Pesticides_Value = Pesticides_Value_text.get()\n",
    "    avg_temp = avg_temp_text.get()\n",
    "    \n",
    "    while Area==\" \" or Item==\" \" or average_rain_fall_mm_per_year==\" \" or Pesticides_Value==\" \" or avg_temp==\" \":\n",
    "        error1_lbl[\"text\"] = \"Please fill in the gaps correctlly!\"\n",
    "        \n",
    "        \n",
    "    while Area not in le_Area_mapping:\n",
    "        error2_lbl[\"text\"] = \"Your country is not in our dataset!\"\n",
    "        \n",
    "    while Item not in le_Item_mapping:\n",
    "        error3_lbl[\"text\"] = \"Your item is not in our dataset!\"\n",
    "        \n",
    "    new_test_data = {'Area': [Area],\n",
    "                 'Item': [Item],\n",
    "                 'average_rain_fall_mm_per_year': [average_rain_fall_mm_per_year],\n",
    "                 'Pesticides Value': [Pesticides_Value],\n",
    "                 'avg_temp': [avg_temp]}\n",
    "    \n",
    "    new_test_data.update({'Area': [le_Area_mapping[Area]], 'Item': [le_Item_mapping[Item]]})\n",
    "    \n",
    "    new_test_df = pd.DataFrame(new_test_data)\n",
    "    # Pre processing\n",
    "    scalar = StandardScaler()\n",
    "    scalar_new_test = scalar.fit_transform(new_test_df)\n",
    "    # Training\n",
    "    model = RandomForestRegressor(n_estimators=200, max_depth=12, random_state=0).fit(train_X, train_Y)\n",
    "    # Predict labels\n",
    "    predicted_label = model.predict(scalar_new_test)\n",
    "    \n",
    "    prediction_lbl[\"text\"] = f\"Crops Yield amount: \\n {np.squeeze(predicted_label)[()]}\"\n",
    "    \n",
    "    # pie chart\n",
    "    x = np.concatenate((predicted_label, np.array([labels.max()])))\n",
    "    \n",
    "    label = ['Your Yield', 'Maximum Yield']\n",
    "    palette_color = sns.color_palette('bright')\n",
    "    fig, ax = plt.subplots()\n",
    "    ax.pie(x, labels = label, colors =palette_color )\n",
    "    ax.set_title('Survery responses')\n",
    "\n",
    "    canvas = FigureCanvasTkAgg(fig, master = screen)  \n",
    "    canvas.draw()\n",
    "    canvas.get_tk_widget().pack()\n",
    "    toolbar = NavigationToolbar2Tk(canvas, screen)\n",
    "    toolbar.update()\n",
    "\n",
    "######## Labels and buttons Setting ##################\n",
    "\n",
    "### Area\n",
    "Area_lbl = Label(screen, text = \"Enter Your Country\", font = \"thahoma 15\",\n",
    "                     fg = \"#FFFF69\", bg = '#000000')\n",
    "Area_lbl.pack(pady = 10)\n",
    "\n",
    "Area_text= StringVar()\n",
    "Area_text_entry = Entry(screen, textvariable = Area_text, bg = '#CDCDB7')\n",
    "Area_text_entry.pack(pady = 10)\n",
    "\n",
    "\n",
    "### Error2 label\n",
    "error2_lbl = Label(screen, text = '', font = \"thahoma 15\",\n",
    "                     fg = \"#9898F5\", bg = \"#000000\")\n",
    "error2_lbl.pack(pady = 10)\n",
    "\n",
    "\n",
    "### Item\n",
    "Item_lbl = Label(screen, text = \"Enter Your Item\", font = \"thahoma 15\",\n",
    "                     fg = '#FFFF69', bg = '#000000')\n",
    "Item_lbl.pack(pady = 10)\n",
    "\n",
    "Item_text = StringVar()\n",
    "Item_text_entry = Entry(screen, textvariable = Item_text, bg = '#CDCDB7')\n",
    "Item_text_entry.pack(pady = 10)\n",
    "\n",
    "\n",
    "### Error3 label\n",
    "error3_lbl = Label(screen, text = '', font = \"thahoma 15\",\n",
    "                     fg = \"#9898F5\", bg = \"#000000\")\n",
    "error3_lbl.pack(pady = 10)\n",
    "\n",
    "\n",
    "### average_rain_fall_mm_per_year\n",
    "average_rain_fall_mm_per_year_lbl = Label(screen, text = \"Enter the average rain fall\", font = \"thahoma 15\",\n",
    "                     fg = \"#FFFF69\", bg = '#000000')\n",
    "average_rain_fall_mm_per_year_lbl.pack(pady = 10)\n",
    "\n",
    "\n",
    "average_rain_fall_mm_per_year_text = StringVar()\n",
    "average_rain_fall_mm_per_year_text_entry = Entry(screen, textvariable = average_rain_fall_mm_per_year_text, bg = '#CDCDB7')\n",
    "average_rain_fall_mm_per_year_text_entry.pack(pady = 10)\n",
    "\n",
    "\n",
    "### Pesticides_Value\n",
    "Pesticides_Value_lbl = Label(screen, text = \"Enter the Pesticides Value\", font = \"thahoma 15\",\n",
    "                     fg = \"#FFFF69\", bg = '#000000')\n",
    "Pesticides_Value_lbl.pack(pady = 10)\n",
    "\n",
    "\n",
    "Pesticides_Value_text = StringVar()\n",
    "Pesticides_Value_text_entry = Entry(screen, textvariable = Pesticides_Value_text, bg = '#CDCDB7')\n",
    "Pesticides_Value_text_entry.pack(pady = 10)\n",
    "\n",
    "\n",
    "### avg_temp\n",
    "avg_temp_lbl = Label(screen, text = \"Enter the average temperature\", font = \"thahoma 15\",\n",
    "                     fg = \"#FFFF69\", bg = '#000000')\n",
    "avg_temp_lbl.pack(pady = 10)\n",
    "\n",
    "\n",
    "avg_temp_text = StringVar()\n",
    "avg_temp_text_entry = Entry(screen, textvariable = avg_temp_text, bg = '#CDCDB7')\n",
    "avg_temp_text_entry.pack(pady = 10)\n",
    "\n",
    "\n",
    "### prediction label\n",
    "prediction_lbl = Label(screen, text = '', font = \"thahoma 15\",\n",
    "                     fg = \"deep pink\", bg = \"#000000\")\n",
    "prediction_lbl.pack(pady = 10)\n",
    "\n",
    "\n",
    "\n",
    "### Error1 label\n",
    "error1_lbl = Label(screen, text = '', font = \"thahoma 15\",\n",
    "                     fg = \"#9898F5\", bg = \"#000000\")\n",
    "error1_lbl.pack(pady = 10)\n",
    "\n",
    "\n",
    "### Buttons\n",
    "\n",
    "predict_btn = Button(screen, text = 'Predict', width = 12, cursor = \"hand1\", \n",
    "                    command = predict, bg = \"#FFFF69\", fg = \"black\",activebackground = 'deep pink',\n",
    "                    font = \"thahoma 15\")\n",
    "predict_btn.pack()\n",
    "\n",
    "\n",
    "\n",
    "screen.mainloop()"
   ]
  },
  {
   "cell_type": "code",
   "execution_count": null,
   "id": "1b55f52b",
   "metadata": {},
   "outputs": [],
   "source": []
  }
 ],
 "metadata": {
  "kernelspec": {
   "display_name": "Python 3 (ipykernel)",
   "language": "python",
   "name": "python3"
  },
  "language_info": {
   "codemirror_mode": {
    "name": "ipython",
    "version": 3
   },
   "file_extension": ".py",
   "mimetype": "text/x-python",
   "name": "python",
   "nbconvert_exporter": "python",
   "pygments_lexer": "ipython3",
   "version": "3.9.12"
  }
 },
 "nbformat": 4,
 "nbformat_minor": 5
}
